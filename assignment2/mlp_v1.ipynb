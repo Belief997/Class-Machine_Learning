{
 "cells": [
  {
   "cell_type": "code",
   "execution_count": 1,
   "metadata": {},
   "outputs": [
    {
     "name": "stdout",
     "output_type": "stream",
     "text": [
      "(2034, 512) (2034,)\n",
      "(1353, 512) (1353,)\n"
     ]
    }
   ],
   "source": [
    "# %% 1\n",
    "# Package imports\n",
    "import matplotlib.pyplot as plt\n",
    "import numpy as np\n",
    "import sklearn\n",
    "import sklearn.datasets\n",
    "import sklearn.linear_model\n",
    "import matplotlib\n",
    "from sklearn.datasets import fetch_20newsgroups\n",
    "from sklearn.feature_extraction.text import TfidfVectorizer\n",
    "from pprint import pprint\n",
    "import copy\n",
    "\n",
    "categories = ['alt.atheism', 'talk.religion.misc', 'comp.graphics', 'sci.space']\n",
    "\n",
    "newsgroups_train = fetch_20newsgroups(subset='train',  categories=categories)\n",
    "newsgroups_test = fetch_20newsgroups(subset='test',  categories=categories)\n",
    "\n",
    "# pprint(newsgroups_train.data[0])\n",
    "\n",
    "num_train = len(newsgroups_train.data)\n",
    "num_test  = len(newsgroups_test.data)\n",
    "\n",
    "vectorizer = TfidfVectorizer(max_features=512)\n",
    "\n",
    "X = vectorizer.fit_transform( newsgroups_train.data + newsgroups_test.data )\n",
    "X_train = X[0:num_train, :]\n",
    "X_test = X[num_train:num_train+num_test,:]\n",
    "\n",
    "Y_train = newsgroups_train.target\n",
    "Y_test = newsgroups_test.target\n",
    "\n",
    "\n",
    "print(X_train.shape, Y_train.shape)\n",
    "print(X_test.shape, Y_test.shape)"
   ]
  },
  {
   "cell_type": "code",
   "execution_count": 2,
   "metadata": {},
   "outputs": [],
   "source": [
    "# # Generate a dataset and plot it\n",
    "# np.random.seed(0)\n",
    "# X, y = sklearn.datasets.make_moons(1000, noise=0.20)\n",
    "# print('输入：',X.shape)\n",
    "# print('输出',y.shape)\n",
    "# plt.scatter(X[:,0], X[:,1], s=40, c=y, cmap=plt.cm.Spectral)"
   ]
  },
  {
   "cell_type": "code",
   "execution_count": 3,
   "metadata": {},
   "outputs": [],
   "source": [
    "# # Train the logistic regression classifier\n",
    "# clf = sklearn.linear_model.LogisticRegressionCV()\n",
    "# clf.fit(X, y)"
   ]
  },
  {
   "cell_type": "code",
   "execution_count": 4,
   "metadata": {},
   "outputs": [],
   "source": [
    "# # Helper function to plot a decision boundary.\n",
    "# # If you don't fully understand this function don't worry, it just generates the contour plot below.\n",
    "# def plot_decision_boundary(pred_func):\n",
    "#     # Set min and max values and give it some padding\n",
    "#     x_min, x_max = X[:, 0].min() - .5, X[:, 0].max() + .5\n",
    "#     y_min, y_max = X[:, 1].min() - .5, X[:, 1].max() + .5\n",
    "#     h = 0.01\n",
    "#     # Generate a grid of points with distance h between them\n",
    "#     xx, yy = np.meshgrid(np.arange(x_min, x_max, h), np.arange(y_min, y_max, h))\n",
    "#     # Predict the function value for the whole gid\n",
    "#     Z = pred_func(np.c_[xx.ravel(), yy.ravel()])\n",
    "#     Z = Z.reshape(xx.shape)\n",
    "#     # Plot the contour and training examples\n",
    "#     plt.contourf(xx, yy, Z, cmap=plt.cm.Spectral)\n",
    "#     plt.scatter(X[:, 0], X[:, 1], c=y, cmap=plt.cm.Spectral)"
   ]
  },
  {
   "cell_type": "code",
   "execution_count": 5,
   "metadata": {},
   "outputs": [],
   "source": [
    "# # Plot the decision boundary\n",
    "# plot_decision_boundary(lambda x: clf.predict(x))\n",
    "# plt.title(\"Logistic Regression\")"
   ]
  },
  {
   "cell_type": "markdown",
   "metadata": {},
   "source": [
    "### drop out"
   ]
  },
  {
   "cell_type": "code",
   "execution_count": 6,
   "metadata": {},
   "outputs": [],
   "source": [
    "def dropout_Z(Z_out, level):\n",
    "    if level < 0. or level >= 1:\n",
    "        #level是概率值，必须在0~1之间\n",
    "        raise Exception('Dropout level must be in interval [0, 1[.')\n",
    "    retain_prob = 1. - level\n",
    "    #我们通过binomial函数，生成与x一样的维数向量。\n",
    "    #binomial函数就像抛硬币一样，我们可以把每个神经元当做抛硬币一样\n",
    "    #硬币 正面的概率为p，n表示每个神经元试验的次数\n",
    "    #因为我们每个神经元只需要抛一次就可以了所以n=1，size参数是我们有多少个硬币。\n",
    "    #即将生成一个0、1分布的向量，0表示这个神经元被屏蔽，不工作了，也就是dropout了\n",
    "    sample=np.random.binomial(n=1,p=retain_prob,size=x.shape)\n",
    "    Z_out *=sample#0、1与x相乘，我们就可以屏蔽某些神经元，让它们的值变为0\n",
    "    Z_out /= retain_prob\n",
    " \n",
    "    return Z_out"
   ]
  },
  {
   "cell_type": "code",
   "execution_count": 7,
   "metadata": {},
   "outputs": [],
   "source": [
    "def dropout_single_Z(memo_forward, level):\n",
    "    if level < 0. or level >= 1:\n",
    "        #level是概率值，必须在0~1之间\n",
    "        raise Exception('Dropout level must be in interval [0, 1[.')\n",
    "    retain_prob = 1. - level\n",
    "    #我们通过binomial函数，生成与x一样的维数向量。binomial函数就像抛硬币一样，我们可以把每个神经元当做抛硬币一样\n",
    "    #硬币 正面的概率为p，n表示每个神经元试验的次数\n",
    "    #因为我们每个神经元只需要抛一次就可以了所以n=1，size参数是我们有多少个硬币。\n",
    "    sample=np.random.binomial(n=1,p=retain_prob,size= 1)#即将生成一个0、1分布的向量，0表示这个神经元被屏蔽，不工作了，也就是dropout了\n",
    "    memo_forward['Z_out'] *= sample#0、1与x相乘，我们就可以屏蔽某些神经元，让它们的值变为0\n",
    "    memo_forward['Z_hide'] *= sample#0、1与x相乘，我们就可以屏蔽某些神经元，让它们的值变为0\n",
    "    memo_forward['Z_out'] /= retain_prob#0、1与x相乘，我们就可以屏蔽某些神经元，让它们的值变为0\n",
    "    memo_forward['Z_hide'] /= retain_prob#0、1与x相乘，我们就可以屏蔽某些神经元，让它们的值变为0\n",
    "\n",
    "    return memo_forward"
   ]
  },
  {
   "cell_type": "markdown",
   "metadata": {},
   "source": [
    "### batch norm"
   ]
  },
  {
   "cell_type": "code",
   "execution_count": 8,
   "metadata": {},
   "outputs": [],
   "source": [
    "# def batch(X_train, batch_size):\n",
    "#     batchs = []\n",
    "#     np.random.choice(X_train.shape[0], batch_size)\n",
    "    "
   ]
  },
  {
   "cell_type": "markdown",
   "metadata": {},
   "source": [
    "初始化层"
   ]
  },
  {
   "cell_type": "code",
   "execution_count": 9,
   "metadata": {},
   "outputs": [],
   "source": [
    "def init_layer(input_dim, output_dim, actFunc):\n",
    "    np.random.seed(0)\n",
    "    W = np.random.randn(input_dim, output_dim) / np.sqrt(input_dim)\n",
    "    b = np.zeros((1,output_dim))\n",
    "    print('w:',W.shape)\n",
    "    print('b:',b.shape)\n",
    "    layer = {'W': W, 'b': b, 'actFunc': actFunc}\n",
    "    return layer"
   ]
  },
  {
   "cell_type": "code",
   "execution_count": 10,
   "metadata": {},
   "outputs": [],
   "source": [
    "def init_layers(nn_architecture):\n",
    "    layers = []\n",
    "    for l in nn_architecture:\n",
    "        layer = init_layer(l['input_dim'], l['output_dim'], l['actFunc'])\n",
    "        layers.append(layer)\n",
    "    return layers"
   ]
  },
  {
   "cell_type": "markdown",
   "metadata": {},
   "source": [
    "激活函数"
   ]
  },
  {
   "cell_type": "code",
   "execution_count": 11,
   "metadata": {},
   "outputs": [],
   "source": [
    "def sigmoid(z):\n",
    "    return 1 / (1 + np.exp(-z))\n",
    "\n",
    "def relu(z):\n",
    "    return np.maximum(0, z)\n"
   ]
  },
  {
   "cell_type": "markdown",
   "metadata": {},
   "source": [
    "softmax"
   ]
  },
  {
   "cell_type": "code",
   "execution_count": 12,
   "metadata": {},
   "outputs": [],
   "source": [
    "def softmax(Z):\n",
    "    exp_scores = np.exp(Z)\n",
    "    probs = exp_scores / np.sum(exp_scores, axis=1, keepdims=True)\n",
    "    return probs"
   ]
  },
  {
   "cell_type": "markdown",
   "metadata": {},
   "source": [
    "反向传播"
   ]
  },
  {
   "cell_type": "code",
   "execution_count": 13,
   "metadata": {},
   "outputs": [],
   "source": [
    "def sigmoid_backward(dA, Z):\n",
    "    sig = sigmoid(Z)\n",
    "    return dA * sig * (1-sig)\n",
    "\n",
    "def relu_backward(dA, Z):\n",
    "    dZ = np.array(dA, copy = True)\n",
    "    dZ[Z <= 0] = 0\n",
    "    return dZ\n",
    "\n",
    "def tanh_backward(dA, Z):\n",
    "    t = np.tanh(Z)\n",
    "    res = (1 - t * t)\n",
    "    return res * dA"
   ]
  },
  {
   "cell_type": "markdown",
   "metadata": {},
   "source": [
    "损失函数"
   ]
  },
  {
   "cell_type": "code",
   "execution_count": 14,
   "metadata": {},
   "outputs": [],
   "source": [
    "def loss(Z, y):\n",
    "    # 计算损失\n",
    "    probs = softmax(Z)\n",
    "    corect_logprobs = -np.log(probs[range(num_examples), y])\n",
    "    data_loss = np.sum(corect_logprobs)\n",
    "    #在损失上加上正则项（可选）\n",
    "    # data_loss += reg_lambda/2 * (np.sum(np.square(W1)) + np.sum(np.square(W2)))\n",
    "    return 1./num_examples * data_loss"
   ]
  },
  {
   "cell_type": "markdown",
   "metadata": {},
   "source": [
    "前向传播"
   ]
  },
  {
   "cell_type": "code",
   "execution_count": 15,
   "metadata": {},
   "outputs": [],
   "source": [
    "def single_layer_forward_prop(X, layer):\n",
    "    W = layer['W']\n",
    "#     print(W.shape)\n",
    "    Z = X.dot(layer['W']) + layer['b']\n",
    "    if layer['actFunc'] is 'relu':\n",
    "        actFunction = relu\n",
    "    elif layer['actFunc'] is 'sigmoid':\n",
    "        actFunction = sigmoid\n",
    "    else:\n",
    "        actFunction = np.tanh\n",
    "    return actFunction(Z), Z"
   ]
  },
  {
   "cell_type": "code",
   "execution_count": 16,
   "metadata": {},
   "outputs": [],
   "source": [
    "def full_layers_forward_prop(X, layers):\n",
    "    memory_forward = []\n",
    "    Z_out = X\n",
    "    memo_forward = {\n",
    "        'Z_out': X\n",
    "    }\n",
    "    memory_forward.append(memo_forward)\n",
    "    layers_now = 0\n",
    "    for layer in layers:\n",
    "#         print('forward layers_now:',layers_now)\n",
    "        Z_out, Z_hide = single_layer_forward_prop(Z_out, layer)\n",
    "        memo_forward = {\n",
    "            'Z_out': Z_out,\n",
    "            'Z_hide': Z_hide\n",
    "        }\n",
    "        if dropout:\n",
    "            memo_forward = dropout_single_Z(memo_forward, level)\n",
    "\n",
    "        memory_forward.append(memo_forward)\n",
    "        layers_now += 1\n",
    "\n",
    "    # 返回最终的Z_out => actFunc(Z=X*W + b)\n",
    "    # memory_forward记录每一层的Z_out=actFunc(Z_hide)和Z_hide=W*X+b\n",
    "#     print('Z_out: ',Z_out.shape)\n",
    "    return Z_out, memory_forward"
   ]
  },
  {
   "cell_type": "markdown",
   "metadata": {},
   "source": [
    "反向传播"
   ]
  },
  {
   "cell_type": "code",
   "execution_count": 17,
   "metadata": {},
   "outputs": [],
   "source": [
    "def single_layer_backward_prop(memo_forward_now, memo_forward_pre, dA_now, layer):\n",
    "    # 前向神经元个数\n",
    "    # dA_now为由下一层传回的梯度\n",
    "    # memo_forward_pre 记录上一层计算结果， Z_hide=X*w+b和Z_out => X_pre\n",
    "    # memo_forward_now 记录当前层的计算结果，Z_hide => Z_now和Z_out\n",
    "    X_pre = memo_forward_pre['Z_out']\n",
    "    Z_now = memo_forward_now['Z_hide']\n",
    "    back_dim = X_pre.shape[0]\n",
    "\n",
    "    if layer['actFunc'] is 'sigmoid':\n",
    "        actFuncBack = sigmoid_backward\n",
    "    elif layer['actFunc'] is 'relu':\n",
    "        actFuncBack = relu_backward\n",
    "    else:\n",
    "        actFuncBack = tanh_backward\n",
    "\n",
    "    # 计算当前层外层导数\n",
    "    # dZ_now = actFunc'(Z_hide)\n",
    "    dZ_now = actFuncBack(dA_now, Z_now)\n",
    "    # dW_now = actFunc'(Z_hide) * (X=Z_hide*dW)\n",
    "    dW_now = X_pre.T.dot(dZ_now) / back_dim\n",
    "    # db_now = actFunc'(Z_hide) * (1=Z_hide*db); 维度转换\n",
    "    db_now = np.sum(dZ_now, axis=0, keepdims=True) / back_dim\n",
    "    # dA_pre为向前一层传递的梯度；对上一层的Z_out即本层的X求导结果\n",
    "    # dA_pre = actFunc'(Z_hide) * (W=Z_hide*dX)\n",
    "    W_now = copy.deepcopy(layer['W'])\n",
    "    dA_pre = dZ_now.dot(W_now.T)\n",
    "    \n",
    "    return dA_pre,dW_now, db_now"
   ]
  },
  {
   "cell_type": "code",
   "execution_count": 18,
   "metadata": {},
   "outputs": [],
   "source": [
    "def full_layers_backward_prop(Z_out, memory_forward, layers, X, y):\n",
    "    # 反向传播\n",
    "    probs = softmax(Z_out)\n",
    "    probs[range(num_examples), y] -= 1\n",
    "    dA_pre = probs\n",
    "#     print('dA_now:', dA_now.shape)\n",
    "#     print('probs:', probs.shape)\n",
    "    memory_backward = []\n",
    "    layers.reverse()\n",
    "    memory_forward.reverse()\n",
    "\n",
    "    length = len(layers)\n",
    "    for idx in range(length):\n",
    "#         print('layer_now:', idx)\n",
    "        dA_pre, dW_now, db_now = single_layer_backward_prop(memory_forward[idx],memory_forward[idx+1],dA_pre,layers[idx])\n",
    "        memo_backward = {\n",
    "            'dW_now': dW_now,\n",
    "            'db_now': db_now\n",
    "        }\n",
    "        memory_backward.append(memo_backward)\n",
    "\n",
    "    return memory_backward"
   ]
  },
  {
   "cell_type": "markdown",
   "metadata": {},
   "source": [
    "更新网络"
   ]
  },
  {
   "cell_type": "code",
   "execution_count": 19,
   "metadata": {},
   "outputs": [],
   "source": [
    "def update(layers, memory_backward):\n",
    "#     print('layers: ',len(layers)\n",
    "#     print('memory_backward: ', len(memory_backward))\n",
    "    length = len(layers)\n",
    "#     print(memory_backward)\n",
    "#     print(layers)\n",
    "#     print(memory_backward)\n",
    "    for idx in range(length):\n",
    "        dW = memory_backward[idx]['dW_now']\n",
    "#         print('dW.shape: ', dW.shape)\n",
    "        layers[idx]['W'] -= epsilon * memory_backward[idx]['dW_now']\n",
    "        layers[idx]['b'] -= epsilon * memory_backward[idx]['db_now']\n",
    "        \n",
    "#     print(memory_backward)\n",
    "#     print(layers)\n",
    "    return layers"
   ]
  },
  {
   "cell_type": "markdown",
   "metadata": {},
   "source": [
    "预测函数"
   ]
  },
  {
   "cell_type": "code",
   "execution_count": 20,
   "metadata": {},
   "outputs": [],
   "source": [
    "def predict(X, layers):\n",
    "    Z_out, memory_forward = full_layers_forward_prop(X,layers)\n",
    "    probs = softmax(Z_out)\n",
    "    return np.argmax(probs, axis=1)"
   ]
  },
  {
   "cell_type": "markdown",
   "metadata": {},
   "source": [
    "计算准确率"
   ]
  },
  {
   "cell_type": "code",
   "execution_count": 21,
   "metadata": {},
   "outputs": [],
   "source": [
    "def get_acc(X, layers):\n",
    "    Z_out, memory_forward = full_layers_forward_prop(X,layers)\n",
    "    probs = softmax(Z_out)\n",
    "#     print(probs)\n",
    "#     return np.argmax(probs, axis=1)\n",
    "    acc = np.mean(Y_test==np.argmax(probs, axis=1))\n",
    "    return acc"
   ]
  },
  {
   "cell_type": "markdown",
   "metadata": {},
   "source": [
    "训练函数"
   ]
  },
  {
   "cell_type": "code",
   "execution_count": 22,
   "metadata": {},
   "outputs": [],
   "source": [
    "def train(X, y, nn_architcture, epochs):\n",
    "    layers = init_layers(nn_architcture)\n",
    "    \n",
    "#     layers = dropout(2, layers, 2)\n",
    "#     layers = dropout(1, layers, 5)\n",
    "    cost_history = []\n",
    "    accuracy_history = []\n",
    "    best_acc = 0\n",
    "\n",
    "    for i in range(epochs):\n",
    "        Z_out, memory_forward = full_layers_forward_prop(X,layers)\n",
    "#         print(Z_out.shape)\n",
    "        cost = loss(Z_out, y)\n",
    "        acc = get_acc(X_test, layers)\n",
    "        cost_history.append(cost)\n",
    "        accuracy_history.append(acc)\n",
    "        if best_acc < acc :\n",
    "            best_acc = acc\n",
    "            \n",
    "        if i % 500 == 0:\n",
    "#             epsilon = 0.01 * np.exp(-i / 500) + 0.02\n",
    "            print('||epochs => ', i, '||cost => ', cost, '||acc => ', acc)\n",
    "#             print('epochs: ', i, 'epsilon: ', epsilon)\n",
    "#             print('cost: ', cost)\n",
    "#             print('acc: ', acc)\n",
    "\n",
    "\n",
    "        memory_backward = full_layers_backward_prop(Z_out, memory_forward, layers, X, y)\n",
    "        layers = update(layers, memory_backward)\n",
    "        \n",
    "        layers.reverse()\n",
    "        memory_forward.reverse()\n",
    "\n",
    "    plt.subplot(2, 1, 1) \n",
    "    plt.plot(accuracy_history)\n",
    "    plt.ylabel('accuracy')\n",
    "    plt.show()\n",
    "    \n",
    "    \n",
    "    plt.subplot(2, 1, 2)\n",
    "    plt.plot(cost_history)\n",
    "    plt.ylabel('loss')\n",
    "    plt.show()\n",
    "    \n",
    "    print('best_acc: ', best_acc)\n",
    "    \n",
    "    return layers, cost_history, accuracy_history"
   ]
  },
  {
   "cell_type": "markdown",
   "metadata": {},
   "source": [
    "初始化参数，网络结构，学习率"
   ]
  },
  {
   "cell_type": "code",
   "execution_count": 23,
   "metadata": {},
   "outputs": [
    {
     "name": "stdout",
     "output_type": "stream",
     "text": [
      "样本数量： 2034\n",
      "输入样本维度： 512\n",
      "输出数量： 4\n"
     ]
    }
   ],
   "source": [
    "num_examples = X_train.shape[0] # 训练样本的数量\n",
    "nn_input_dim = X_train.shape[1] # 输入层的维度\n",
    "nn_output_dim = 4 # 输出层的维度\n",
    "\n",
    "# 梯度下降的参数\n",
    "epsilon = 0.08 # 梯度下降的学习率\n",
    "reg_lambda = 0.01 # 正则化的强度\n",
    "epochs = 5000\n",
    "dropout = True\n",
    "level = 0.1\n",
    "\n",
    "\n",
    "print('样本数量：', num_examples)\n",
    "print('输入样本维度：',nn_input_dim)\n",
    "print('输出数量：',nn_output_dim)"
   ]
  },
  {
   "cell_type": "markdown",
   "metadata": {},
   "source": [
    "输出"
   ]
  },
  {
   "cell_type": "code",
   "execution_count": 24,
   "metadata": {
    "scrolled": false
   },
   "outputs": [],
   "source": [
    "# nn_architcture = [\n",
    "# #     {'input_dim': nn_input_dim, 'output_dim': 4, 'actFunc': 'tanh'},\n",
    "# #     {'input_dim': 4, 'output_dim': 6, 'actFunc': 'tanh'},\n",
    "# #     {'input_dim': 6, 'output_dim': 6, 'actFunc': 'tanh'},\n",
    "# #     {'input_dim': 6, 'output_dim': 4, 'actFunc': 'tanh'},\n",
    "#     {'input_dim': nn_input_dim, 'output_dim': nn_output_dim, 'actFunc': 'tanh'},\n",
    "# ]\n",
    "\n",
    "# layers, cost_history,accuracy_history = train(X_train, Y_train, nn_architcture, epochs)\n",
    "# acc = get_acc(X_test, layers)\n",
    "# # plot_decision_boundary(lambda x: predict(x, layers))\n",
    "# # plt.title(\"Decision Boundary for hidden layer size 1.\")\n",
    "# print(\"Decision Boundary for hidden layer size 1. acc: \", acc)"
   ]
  },
  {
   "cell_type": "code",
   "execution_count": 25,
   "metadata": {
    "scrolled": false
   },
   "outputs": [
    {
     "name": "stdout",
     "output_type": "stream",
     "text": [
      "w: (512, 16)\n",
      "b: (1, 16)\n",
      "w: (16, 4)\n",
      "b: (1, 4)\n",
      "||epochs =>  0 ||cost =>  1.3860399038381812 ||acc =>  0.25129342202512933\n",
      "||epochs =>  500 ||cost =>  0.9296140428513592 ||acc =>  0.7435328898743533\n",
      "||epochs =>  1000 ||cost =>  0.6993994705416948 ||acc =>  0.7878787878787878\n",
      "||epochs =>  1500 ||cost =>  0.6090576829990809 ||acc =>  0.8070953436807096\n",
      "||epochs =>  2000 ||cost =>  0.5555655861303179 ||acc =>  0.8070953436807096\n",
      "||epochs =>  2500 ||cost =>  0.5201703402278135 ||acc =>  0.8033998521803399\n",
      "||epochs =>  3000 ||cost =>  0.4954173333294757 ||acc =>  0.8004434589800443\n",
      "||epochs =>  3500 ||cost =>  0.4772691776226654 ||acc =>  0.8004434589800443\n",
      "||epochs =>  4000 ||cost =>  0.4633246835187012 ||acc =>  0.8004434589800443\n",
      "||epochs =>  4500 ||cost =>  0.4521695347829985 ||acc =>  0.8019216555801921\n"
     ]
    },
    {
     "data": {
      "image/png": "[encoded data removed]",
      "text/plain": [
       "<Figure size 432x288 with 1 Axes>"
      ]
     },
     "metadata": {},
     "output_type": "display_data"
    },
    {
     "data": {
      "image/png": "[encoded data removed]",
      "text/plain": [
       "<Figure size 432x288 with 1 Axes>"
      ]
     },
     "metadata": {},
     "output_type": "display_data"
    },
    {
     "name": "stdout",
     "output_type": "stream",
     "text": [
      "best_acc:  0.8100517368810052\n",
      "Decision Boundary for hidden layer size 2, acc:  0.8033998521803399\n"
     ]
    }
   ],
   "source": [
    "# 梯度下降的参数（我直接手动赋值）\n",
    "epsilon = 0.08 # 梯度下降的学习率\n",
    "reg_lambda = 0.01 # 正则化的强度\n",
    "epochs = 5000\n",
    "dropout = False\n",
    "level = 0.1\n",
    "\n",
    "nn_architcture = [\n",
    "    {'input_dim': nn_input_dim, 'output_dim': 16, 'actFunc': 'tanh'},\n",
    "    {'input_dim': 16, 'output_dim': nn_output_dim, 'actFunc': 'tanh'},\n",
    "]\n",
    "\n",
    "layers, cost_history,accuracy_history  = train(X_train, Y_train, nn_architcture, epochs)\n",
    "acc = get_acc(X_test, layers)\n",
    "# plot_decision_boundary(lambda x: predict(x, layers))\n",
    "# plt.title(\"Decision Boundary for hidden layer size 2.\")\n",
    "print(\"Decision Boundary for hidden layer size 2, acc: \", acc)"
   ]
  },
  {
   "cell_type": "code",
   "execution_count": 26,
   "metadata": {},
   "outputs": [],
   "source": [
    "# nn_architcture = [\n",
    "#     {'input_dim': nn_input_dim, 'output_dim': 16, 'actFunc': 'relu'},\n",
    "# #     {'input_dim': 4, 'output_dim': 6, 'actFunc': 'tanh'},\n",
    "# #     {'input_dim': 6, 'output_dim': 6, 'actFunc': 'tanh'},\n",
    "# #     {'input_dim': 6, 'output_dim': 4, 'actFunc': 'tanh'},\n",
    "#     {'input_dim': 16, 'output_dim': nn_output_dim, 'actFunc': 'relu'},\n",
    "# ]\n",
    "\n",
    "# layers, cost_history,accuracy_history  = train(X_train, Y_train, nn_architcture, epochs)\n",
    "# acc = get_acc(X_test, layers)\n",
    "# # plot_decision_boundary(lambda x: predict(x, layers))\n",
    "# # plt.title(\"Decision Boundary for hidden layer size 2.\")\n",
    "# print(\"Decision Boundary for hidden layer size 2, acc: \", acc)"
   ]
  },
  {
   "cell_type": "code",
   "execution_count": 27,
   "metadata": {},
   "outputs": [
    {
     "name": "stdout",
     "output_type": "stream",
     "text": [
      "w: (512, 16)\n",
      "b: (1, 16)\n",
      "w: (16, 8)\n",
      "b: (1, 8)\n",
      "w: (8, 4)\n",
      "b: (1, 4)\n",
      "||epochs =>  0 ||cost =>  1.3862943611198908 ||acc =>  0.23577235772357724\n",
      "||epochs =>  500 ||cost =>  1.3739622684327608 ||acc =>  0.29120473022912047\n",
      "||epochs =>  1000 ||cost =>  1.3862943611198908 ||acc =>  0.23577235772357724\n",
      "||epochs =>  1500 ||cost =>  1.3862943611198908 ||acc =>  0.23577235772357724\n",
      "||epochs =>  2000 ||cost =>  1.3720073395375512 ||acc =>  0.5631929046563193\n",
      "||epochs =>  2500 ||cost =>  1.3862943611198908 ||acc =>  0.23577235772357724\n",
      "||epochs =>  3000 ||cost =>  1.3708238528322096 ||acc =>  0.23577235772357724\n",
      "||epochs =>  3500 ||cost =>  1.3862943611198908 ||acc =>  0.7272727272727273\n",
      "||epochs =>  4000 ||cost =>  1.3738591826025388 ||acc =>  0.29120473022912047\n",
      "||epochs =>  4500 ||cost =>  1.3738550419807691 ||acc =>  0.23577235772357724\n"
     ]
    },
    {
     "data": {
      "image/png": "[encoded data removed]",
      "text/plain": [
       "<Figure size 432x288 with 1 Axes>"
      ]
     },
     "metadata": {},
     "output_type": "display_data"
    },
    {
     "data": {
      "image/png": "[encoded data removed]",
      "text/plain": [
       "<Figure size 432x288 with 1 Axes>"
      ]
     },
     "metadata": {},
     "output_type": "display_data"
    },
    {
     "name": "stdout",
     "output_type": "stream",
     "text": [
      "best_acc:  0.7657058388765706\n",
      "Decision Boundary for hidden layer size 3. acc:  0.7649667405764967\n"
     ]
    }
   ],
   "source": [
    "# 梯度下降的参数\n",
    "epsilon = 0.08 # 梯度下降的学习率\n",
    "reg_lambda = 0.01 # 正则化的强度\n",
    "epochs = 5000\n",
    "dropout = True\n",
    "level = 0.5\n",
    "\n",
    "nn_architcture = [\n",
    "    {'input_dim': nn_input_dim, 'output_dim': 16, 'actFunc': 'relu'},\n",
    "    {'input_dim': 16, 'output_dim': 8, 'actFunc': 'relu'},\n",
    "    {'input_dim': 8, 'output_dim': nn_output_dim, 'actFunc': 'relu'},\n",
    "]\n",
    "\n",
    "layers, cost_history,accuracy_history  = train(X_train, Y_train, nn_architcture, epochs)\n",
    "acc = get_acc(X_test, layers)\n",
    "# plot_decision_boundary(lambda x: predict(x, layers))\n",
    "# plt.title(\"Decision Boundary for hidden layer size 3\")\n",
    "print(\"Decision Boundary for hidden layer size 3. acc: \", acc)"
   ]
  },
  {
   "cell_type": "code",
   "execution_count": 28,
   "metadata": {},
   "outputs": [],
   "source": [
    "# nn_architcture = [\n",
    "#     {'input_dim': nn_input_dim, 'output_dim': 16, 'actFunc': 'sigmoid'},\n",
    "#     {'input_dim': 16, 'output_dim': 8, 'actFunc': 'sigmoid'},\n",
    "#     {'input_dim': 8, 'output_dim': nn_output_dim, 'actFunc': 'sigmoid'},\n",
    "# ]\n",
    "\n",
    "# layers, cost_history,accuracy_history  = train(X_train, Y_train, nn_architcture, epochs)\n",
    "# acc = get_acc(X_test, layers)\n",
    "# # plot_decision_boundary(lambda x: predict(x, layers))\n",
    "# # plt.title(\"Decision Boundary for hidden layer size 3\")\n",
    "# print(\"Decision Boundary for hidden layer size 3. acc: \", acc)"
   ]
  },
  {
   "cell_type": "code",
   "execution_count": 29,
   "metadata": {
    "scrolled": false
   },
   "outputs": [
    {
     "name": "stdout",
     "output_type": "stream",
     "text": [
      "w: (512, 16)\n",
      "b: (1, 16)\n",
      "w: (16, 8)\n",
      "b: (1, 8)\n",
      "w: (8, 4)\n",
      "b: (1, 4)\n",
      "||epochs =>  0 ||cost =>  1.3860142898915064 ||acc =>  0.24981522542498152\n",
      "||epochs =>  500 ||cost =>  0.7495005252529376 ||acc =>  0.7716186252771619\n",
      "||epochs =>  1000 ||cost =>  0.552262899442362 ||acc =>  0.795269770879527\n",
      "||epochs =>  1500 ||cost =>  0.4721311677918665 ||acc =>  0.8011825572801182\n",
      "||epochs =>  2000 ||cost =>  0.4339556229211185 ||acc =>  0.8019216555801921\n",
      "||epochs =>  2500 ||cost =>  0.41131147797736206 ||acc =>  0.7945306725794531\n"
     ]
    },
    {
     "data": {
      "image/png": "[encoded data removed]",
      "text/plain": [
       "<Figure size 432x288 with 1 Axes>"
      ]
     },
     "metadata": {},
     "output_type": "display_data"
    },
    {
     "data": {
      "image/png": "[encoded data removed]",
      "text/plain": [
       "<Figure size 432x288 with 1 Axes>"
      ]
     },
     "metadata": {},
     "output_type": "display_data"
    },
    {
     "name": "stdout",
     "output_type": "stream",
     "text": [
      "best_acc:  0.8033998521803399\n",
      "Decision Boundary for hidden layer size 3. acc:  0.7923133776792314\n"
     ]
    }
   ],
   "source": [
    "# 梯度下降的参数\n",
    "epsilon = 0.08 # 梯度下降的学习率\n",
    "reg_lambda = 0.01 # 正则化的强度\n",
    "epochs = 5000\n",
    "dropout = False\n",
    "level = 0.1\n",
    "\n",
    "\n",
    "nn_architcture = [\n",
    "    {'input_dim': nn_input_dim, 'output_dim': 16, 'actFunc': 'tanh'},\n",
    "    {'input_dim': 16, 'output_dim': 8, 'actFunc': 'tanh'},\n",
    "    {'input_dim': 8, 'output_dim': nn_output_dim, 'actFunc': 'tanh'},\n",
    "]\n",
    "\n",
    "layers, cost_history,accuracy_history  = train(X_train, Y_train, nn_architcture, epochs)\n",
    "acc = get_acc(X_test, layers)\n",
    "# plot_decision_boundary(lambda x: predict(x, layers))\n",
    "# plt.title(\"Decision Boundary for hidden layer size 3\")\n",
    "print(\"Decision Boundary for hidden layer size 3. acc: \", acc)"
   ]
  },
  {
   "cell_type": "code",
   "execution_count": 30,
   "metadata": {},
   "outputs": [
    {
     "name": "stdout",
     "output_type": "stream",
     "text": [
      "w: (512, 16)\n",
      "b: (1, 16)\n",
      "w: (16, 16)\n",
      "b: (1, 16)\n",
      "w: (16, 8)\n",
      "b: (1, 8)\n",
      "w: (8, 4)\n",
      "b: (1, 4)\n",
      "||epochs =>  0 ||cost =>  1.388549721868972 ||acc =>  0.20620842572062084\n",
      "||epochs =>  500 ||cost =>  0.7111493377668291 ||acc =>  0.7265336289726534\n",
      "||epochs =>  1000 ||cost =>  0.559020816390632 ||acc =>  0.7413155949741316\n",
      "||epochs =>  1500 ||cost =>  0.48375235143193007 ||acc =>  0.7819660014781966\n",
      "||epochs =>  2000 ||cost =>  0.4209228576324621 ||acc =>  0.7849223946784922\n",
      "||epochs =>  2500 ||cost =>  0.3925359451372513 ||acc =>  0.7900960827790096\n",
      "||epochs =>  3000 ||cost =>  0.37759606801975054 ||acc =>  0.7930524759793053\n",
      "||epochs =>  3500 ||cost =>  0.368293580884928 ||acc =>  0.7900960827790096\n",
      "||epochs =>  4000 ||cost =>  0.36152125204068286 ||acc =>  0.7967479674796748\n",
      "||epochs =>  4500 ||cost =>  0.35772538587606045 ||acc =>  0.7937915742793792\n"
     ]
    },
    {
     "data": {
      "image/png": "[encoded data removed]",
      "text/plain": [
       "<Figure size 432x288 with 1 Axes>"
      ]
     },
     "metadata": {},
     "output_type": "display_data"
    },
    {
     "data": {
      "image/png": "[encoded data removed]",
      "text/plain": [
       "<Figure size 432x288 with 1 Axes>"
      ]
     },
     "metadata": {},
     "output_type": "display_data"
    },
    {
     "name": "stdout",
     "output_type": "stream",
     "text": [
      "best_acc:  0.7974870657797487\n",
      "Decision Boundary for hidden layer size 4. acc:  0.7871396895787139\n"
     ]
    }
   ],
   "source": [
    "# 梯度下降的参数（我直接手动赋值）\n",
    "epsilon = 0.08 # 梯度下降的学习率\n",
    "reg_lambda = 0.01 # 正则化的强度\n",
    "epochs = 5000\n",
    "dropout = False\n",
    "level = 0.1\n",
    "\n",
    "\n",
    "nn_architcture = [\n",
    "    {'input_dim': nn_input_dim, 'output_dim': 16, 'actFunc': 'tanh'},\n",
    "    {'input_dim': 16, 'output_dim': 16, 'actFunc': 'tanh'},\n",
    "    {'input_dim': 16, 'output_dim': 8, 'actFunc': 'tanh'},\n",
    "    {'input_dim': 8, 'output_dim': nn_output_dim, 'actFunc': 'tanh'},\n",
    "]\n",
    "\n",
    "layers, cost_history,accuracy_history  = train(X_train, Y_train, nn_architcture, epochs)\n",
    "acc = get_acc(X_test, layers)\n",
    "# plot_decision_boundary(lambda x: predict(x, layers))\n",
    "# plt.title(\"Decision Boundary for hidden layer size 4\")\n",
    "print(\"Decision Boundary for hidden layer size 4. acc: \", acc)"
   ]
  },
  {
   "cell_type": "code",
   "execution_count": 31,
   "metadata": {},
   "outputs": [
    {
     "name": "stdout",
     "output_type": "stream",
     "text": [
      "w: (512, 16)\n",
      "b: (1, 16)\n",
      "w: (16, 10)\n",
      "b: (1, 10)\n",
      "w: (10, 8)\n",
      "b: (1, 8)\n",
      "w: (8, 4)\n",
      "b: (1, 4)\n",
      "||epochs =>  0 ||cost =>  1.385252724545861 ||acc =>  0.2609016999260902\n",
      "||epochs =>  500 ||cost =>  1.0409172085135778 ||acc =>  0.23577235772357724\n",
      "||epochs =>  1000 ||cost =>  1.3744399866666464 ||acc =>  0.7095343680709535\n",
      "||epochs =>  1500 ||cost =>  1.3862943611198908 ||acc =>  0.28750923872875095\n",
      "||epochs =>  2000 ||cost =>  0.25139942748611593 ||acc =>  0.7723577235772358\n",
      "||epochs =>  2500 ||cost =>  1.370855191803331 ||acc =>  0.23577235772357724\n",
      "||epochs =>  3000 ||cost =>  1.3708421757771039 ||acc =>  0.23577235772357724\n",
      "||epochs =>  3500 ||cost =>  0.21007368799978426 ||acc =>  0.23577235772357724\n",
      "||epochs =>  4000 ||cost =>  1.3862943611198908 ||acc =>  0.6784922394678492\n",
      "||epochs =>  4500 ||cost =>  1.372029848483744 ||acc =>  0.7900960827790096\n"
     ]
    },
    {
     "data": {
      "image/png": "[encoded data removed]",
      "text/plain": [
       "<Figure size 432x288 with 1 Axes>"
      ]
     },
     "metadata": {},
     "output_type": "display_data"
    },
    {
     "data": {
      "image/png": "[encoded data removed]",
      "text/plain": [
       "<Figure size 432x288 with 1 Axes>"
      ]
     },
     "metadata": {},
     "output_type": "display_data"
    },
    {
     "name": "stdout",
     "output_type": "stream",
     "text": [
      "best_acc:  0.8019216555801921\n",
      "Decision Boundary for hidden layer size 4. acc:  0.29120473022912047\n"
     ]
    }
   ],
   "source": [
    "# 梯度下降的参数\n",
    "epsilon = 0.08 # 梯度下降的学习率\n",
    "reg_lambda = 0.01 # 正则化的强度\n",
    "epochs = 5000\n",
    "dropout = True\n",
    "level = 0.25\n",
    "\n",
    "\n",
    "nn_architcture = [\n",
    "    {'input_dim': nn_input_dim, 'output_dim': 16, 'actFunc': 'relu'},\n",
    "    {'input_dim': 16, 'output_dim': 10, 'actFunc': 'relu'},\n",
    "    {'input_dim': 10, 'output_dim': 8, 'actFunc': 'relu'},\n",
    "    {'input_dim': 8, 'output_dim': nn_output_dim, 'actFunc': 'relu'},\n",
    "]\n",
    "\n",
    "layers, cost_history,accuracy_history  = train(X_train, Y_train, nn_architcture, epochs)\n",
    "acc = get_acc(X_test, layers)\n",
    "# plot_decision_boundary(lambda x: predict(x, layers))\n",
    "# plt.title(\"Decision Boundary for hidden layer size 4\")\n",
    "print(\"Decision Boundary for hidden layer size 4. acc: \", acc)"
   ]
  },
  {
   "cell_type": "code",
   "execution_count": 32,
   "metadata": {
    "scrolled": false
   },
   "outputs": [
    {
     "name": "stdout",
     "output_type": "stream",
     "text": [
      "w: (512, 16)\n",
      "b: (1, 16)\n",
      "w: (16, 32)\n",
      "b: (1, 32)\n",
      "w: (32, 16)\n",
      "b: (1, 16)\n",
      "w: (16, 8)\n",
      "b: (1, 8)\n",
      "w: (8, 4)\n",
      "b: (1, 4)\n",
      "||epochs =>  0 ||cost =>  1.3858308067976386 ||acc =>  0.2697708795269771\n",
      "||epochs =>  500 ||cost =>  1.2689748880755949 ||acc =>  0.29120473022912047\n",
      "||epochs =>  1000 ||cost =>  1.3728673398515256 ||acc =>  0.29120473022912047\n",
      "||epochs =>  1500 ||cost =>  0.9130351023266297 ||acc =>  0.6496674057649667\n",
      "||epochs =>  2000 ||cost =>  1.3711830108394842 ||acc =>  0.29120473022912047\n",
      "||epochs =>  2500 ||cost =>  1.3862943611198908 ||acc =>  0.28750923872875095\n",
      "||epochs =>  3000 ||cost =>  1.3862943611198908 ||acc =>  0.7265336289726534\n",
      "||epochs =>  3500 ||cost =>  1.3711056688595673 ||acc =>  0.23577235772357724\n",
      "||epochs =>  4000 ||cost =>  1.3708801625640261 ||acc =>  0.7124907612712491\n",
      "||epochs =>  4500 ||cost =>  0.3725150823656728 ||acc =>  0.7257945306725795\n"
     ]
    },
    {
     "data": {
      "image/png": "[encoded data removed]",
      "text/plain": [
       "<Figure size 432x288 with 1 Axes>"
      ]
     },
     "metadata": {},
     "output_type": "display_data"
    },
    {
     "data": {
      "image/png": "[encoded data removed]",
      "text/plain": [
       "<Figure size 432x288 with 1 Axes>"
      ]
     },
     "metadata": {},
     "output_type": "display_data"
    },
    {
     "name": "stdout",
     "output_type": "stream",
     "text": [
      "best_acc:  0.7309682187730968\n",
      "Decision Boundary for hidden layer size 5. acc:  0.23577235772357724\n"
     ]
    }
   ],
   "source": [
    "# 梯度下降的参数（我直接手动赋值）\n",
    "epsilon = 0.08 # 梯度下降的学习率\n",
    "reg_lambda = 0.01 # 正则化的强度\n",
    "epochs = 5000\n",
    "dropout = True\n",
    "level = 0.25\n",
    "\n",
    "\n",
    "nn_architcture = [\n",
    "    {'input_dim': nn_input_dim, 'output_dim': 16, 'actFunc': 'relu'},\n",
    "    {'input_dim': 16, 'output_dim': 32, 'actFunc': 'relu'},\n",
    "    {'input_dim': 32, 'output_dim': 16, 'actFunc': 'relu'},\n",
    "    {'input_dim': 16, 'output_dim': 8, 'actFunc': 'relu'},\n",
    "    {'input_dim': 8, 'output_dim': nn_output_dim, 'actFunc': 'relu'},\n",
    "]\n",
    "\n",
    "layers, cost_history,accuracy_history  = train(X_train, Y_train, nn_architcture, epochs)\n",
    "acc = get_acc(X_test, layers)\n",
    "print(\"Decision Boundary for hidden layer size 5. acc: \", acc)"
   ]
  },
  {
   "cell_type": "code",
   "execution_count": 33,
   "metadata": {},
   "outputs": [
    {
     "name": "stdout",
     "output_type": "stream",
     "text": [
      "w: (512, 20)\n",
      "b: (1, 20)\n",
      "w: (20, 15)\n",
      "b: (1, 15)\n",
      "w: (15, 10)\n",
      "b: (1, 10)\n",
      "w: (10, 8)\n",
      "b: (1, 8)\n",
      "w: (8, 4)\n",
      "b: (1, 4)\n",
      "||epochs =>  0 ||cost =>  1.386902357067561 ||acc =>  0.21286031042128603\n",
      "||epochs =>  500 ||cost =>  0.9662173291656764 ||acc =>  0.5144124168514412\n",
      "||epochs =>  1000 ||cost =>  0.5117928196878343 ||acc =>  0.6984478935698448\n",
      "||epochs =>  1500 ||cost =>  0.38846008396757636 ||acc =>  0.720620842572062\n",
      "||epochs =>  2000 ||cost =>  0.2887227286866918 ||acc =>  0.7309682187730968\n",
      "||epochs =>  2500 ||cost =>  0.26933589711788986 ||acc =>  0.7280118255728012\n",
      "||epochs =>  3000 ||cost =>  0.2664855731436825 ||acc =>  0.7302291204730229\n",
      "||epochs =>  3500 ||cost =>  0.2664085899843483 ||acc =>  0.729490022172949\n",
      "||epochs =>  4000 ||cost =>  0.26574486521342844 ||acc =>  0.7280118255728012\n",
      "||epochs =>  4500 ||cost =>  0.2657227540968572 ||acc =>  0.7257945306725795\n"
     ]
    },
    {
     "data": {
      "image/png": "[encoded data removed]",
      "text/plain": [
       "<Figure size 432x288 with 1 Axes>"
      ]
     },
     "metadata": {},
     "output_type": "display_data"
    },
    {
     "data": {
      "image/png": "[encoded data removed]",
      "text/plain": [
       "<Figure size 432x288 with 1 Axes>"
      ]
     },
     "metadata": {},
     "output_type": "display_data"
    },
    {
     "name": "stdout",
     "output_type": "stream",
     "text": [
      "best_acc:  0.7413155949741316\n",
      "Decision Boundary for hidden layer size 5. acc:  0.7272727272727273\n"
     ]
    }
   ],
   "source": [
    "# 梯度下降的参数（我直接手动赋值）\n",
    "epsilon = 0.08 # 梯度下降的学习率\n",
    "reg_lambda = 0.01 # 正则化的强度\n",
    "epochs = 5000\n",
    "dropout = False\n",
    "level = 0.5\n",
    "\n",
    "\n",
    "nn_architcture = [\n",
    "    {'input_dim': nn_input_dim, 'output_dim': 20, 'actFunc': 'relu'},\n",
    "    {'input_dim': 20, 'output_dim': 15, 'actFunc': 'relu'},\n",
    "    {'input_dim': 15, 'output_dim': 10, 'actFunc': 'relu'},\n",
    "    {'input_dim': 10, 'output_dim': 8, 'actFunc': 'relu'},\n",
    "    {'input_dim': 8, 'output_dim': nn_output_dim, 'actFunc': 'relu'},\n",
    "]\n",
    "\n",
    "layers, cost_history,accuracy_history  = train(X_train, Y_train, nn_architcture, epochs)\n",
    "acc = get_acc(X_test, layers)\n",
    "# plot_decision_boundary(lambda x: predict(x, layers))\n",
    "# plt.title(\"Decision Boundary for hidden layer size 4\")\n",
    "print(\"Decision Boundary for hidden layer size 5. acc: \", acc)"
   ]
  },
  {
   "cell_type": "code",
   "execution_count": 34,
   "metadata": {
    "scrolled": false
   },
   "outputs": [
    {
     "name": "stdout",
     "output_type": "stream",
     "text": [
      "w: (512, 32)\n",
      "b: (1, 32)\n",
      "w: (32, 24)\n",
      "b: (1, 24)\n",
      "w: (24, 16)\n",
      "b: (1, 16)\n",
      "w: (16, 8)\n",
      "b: (1, 8)\n",
      "w: (8, 16)\n",
      "b: (1, 16)\n",
      "w: (16, 24)\n",
      "b: (1, 24)\n",
      "w: (24, 8)\n",
      "b: (1, 8)\n",
      "w: (8, 4)\n",
      "b: (1, 4)\n",
      "||epochs =>  0 ||cost =>  1.3862943611198908 ||acc =>  0.23577235772357724\n",
      "||epochs =>  500 ||cost =>  1.3862943611198908 ||acc =>  0.28750923872875095\n",
      "||epochs =>  1000 ||cost =>  1.373869812240426 ||acc =>  0.29120473022912047\n",
      "||epochs =>  1500 ||cost =>  1.3738593806110113 ||acc =>  0.23577235772357724\n",
      "||epochs =>  2000 ||cost =>  1.3738516107982879 ||acc =>  0.23577235772357724\n",
      "||epochs =>  2500 ||cost =>  1.3862943611198908 ||acc =>  0.29120473022912047\n",
      "||epochs =>  3000 ||cost =>  1.3738503801787585 ||acc =>  0.29120473022912047\n",
      "||epochs =>  3500 ||cost =>  1.3862943611198908 ||acc =>  0.29120473022912047\n",
      "||epochs =>  4000 ||cost =>  1.3862943611198908 ||acc =>  0.23577235772357724\n",
      "||epochs =>  4500 ||cost =>  1.3738502824284478 ||acc =>  0.23577235772357724\n"
     ]
    },
    {
     "data": {
      "image/png": "[encoded data removed]",
      "text/plain": [
       "<Figure size 432x288 with 1 Axes>"
      ]
     },
     "metadata": {},
     "output_type": "display_data"
    },
    {
     "data": {
      "image/png": "[encoded data removed]",
      "text/plain": [
       "<Figure size 432x288 with 1 Axes>"
      ]
     },
     "metadata": {},
     "output_type": "display_data"
    },
    {
     "name": "stdout",
     "output_type": "stream",
     "text": [
      "best_acc:  0.29785661492978566\n",
      "Decision Boundary for hidden layer size 8. acc:  0.29120473022912047\n"
     ]
    }
   ],
   "source": [
    "# 梯度下降的参数（我直接手动赋值）\n",
    "epsilon = 0.08 # 梯度下降的学习率\n",
    "reg_lambda = 0.01 # 正则化的强度\n",
    "epochs = 5000\n",
    "dropout = True\n",
    "level = 0.5\n",
    "\n",
    "\n",
    "nn_architcture = [\n",
    "    {'input_dim': nn_input_dim, 'output_dim': 32, 'actFunc': 'relu'},\n",
    "    {'input_dim': 32, 'output_dim': 24, 'actFunc': 'relu'},\n",
    "    {'input_dim': 24, 'output_dim': 16, 'actFunc': 'relu'},\n",
    "    {'input_dim': 16, 'output_dim': 8, 'actFunc': 'relu'},\n",
    "    {'input_dim': 8, 'output_dim': 16, 'actFunc': 'relu'},\n",
    "    {'input_dim': 16, 'output_dim': 24, 'actFunc': 'relu'},\n",
    "    {'input_dim': 24, 'output_dim': 8, 'actFunc': 'relu'},\n",
    "    {'input_dim': 8, 'output_dim': nn_output_dim, 'actFunc': 'relu'},\n",
    "]\n",
    "\n",
    "layers, cost_history,accuracy_history  = train(X_train, Y_train, nn_architcture, epochs)\n",
    "acc = get_acc(X_test, layers)\n",
    "# plot_decision_boundary(lambda x: predict(x, layers))\n",
    "# plt.title(\"Decision Boundary for hidden layer size 4\")\n",
    "print(\"Decision Boundary for hidden layer size 8. acc: \", acc)"
   ]
  },
  {
   "cell_type": "code",
   "execution_count": null,
   "metadata": {},
   "outputs": [],
   "source": []
  }
 ],
 "metadata": {
  "kernelspec": {
   "display_name": "Python 3",
   "language": "python",
   "name": "python3"
  },
  "language_info": {
   "codemirror_mode": {
    "name": "ipython",
    "version": 3
   },
   "file_extension": ".py",
   "mimetype": "text/x-python",
   "name": "python",
   "nbconvert_exporter": "python",
   "pygments_lexer": "ipython3",
   "version": "3.6.5"
  }
 },
 "nbformat": 4,
 "nbformat_minor": 2
}
