{
 "cells": [
  {
   "cell_type": "code",
   "execution_count": 1,
   "metadata": {},
   "outputs": [
    {
     "name": "stdout",
     "output_type": "stream",
     "text": [
      "(2034, 100) (2034,)\n",
      "(1353, 100) (1353,)\n"
     ]
    }
   ],
   "source": [
    "# %% 1\n",
    "# Package imports\n",
    "import matplotlib.pyplot as plt\n",
    "import numpy as np\n",
    "import sklearn\n",
    "import sklearn.datasets\n",
    "import sklearn.linear_model\n",
    "import matplotlib\n",
    "from sklearn.datasets import fetch_20newsgroups\n",
    "from sklearn.feature_extraction.text import TfidfVectorizer\n",
    "from pprint import pprint\n",
    "import copy\n",
    "\n",
    "categories = ['alt.atheism', 'talk.religion.misc', 'comp.graphics', 'sci.space']\n",
    "\n",
    "newsgroups_train = fetch_20newsgroups(subset='train',  categories=categories)\n",
    "newsgroups_test = fetch_20newsgroups(subset='test',  categories=categories)\n",
    "\n",
    "# pprint(newsgroups_train.data[0])\n",
    "\n",
    "num_train = len(newsgroups_train.data)\n",
    "num_test  = len(newsgroups_test.data)\n",
    "\n",
    "vectorizer = TfidfVectorizer(max_features=100)\n",
    "\n",
    "X = vectorizer.fit_transform( newsgroups_train.data + newsgroups_test.data )\n",
    "X_train = X[0:num_train, :]\n",
    "X_test = X[num_train:num_train+num_test,:]\n",
    "\n",
    "Y_train = newsgroups_train.target\n",
    "Y_test = newsgroups_test.target\n",
    "\n",
    "\n",
    "# Normalize the data: subtract the mean image\n",
    "# mean_image = np.mean(X_train, axis = 0)\n",
    "# X_train -= mean_image\n",
    "# X_test -= mean_image\n",
    "\n",
    "print(X_train.shape, Y_train.shape)\n",
    "print(X_test.shape, Y_test.shape)"
   ]
  },
  {
   "cell_type": "code",
   "execution_count": 2,
   "metadata": {},
   "outputs": [],
   "source": [
    "# # Generate a dataset and plot it\n",
    "# np.random.seed(0)\n",
    "# X, y = sklearn.datasets.make_moons(1000, noise=0.20)\n",
    "# print('输入：',X.shape)\n",
    "# print('输出',y.shape)\n",
    "# plt.scatter(X[:,0], X[:,1], s=40, c=y, cmap=plt.cm.Spectral)"
   ]
  },
  {
   "cell_type": "code",
   "execution_count": 3,
   "metadata": {},
   "outputs": [],
   "source": [
    "# # Train the logistic regression classifier\n",
    "# clf = sklearn.linear_model.LogisticRegressionCV()\n",
    "# clf.fit(X, y)"
   ]
  },
  {
   "cell_type": "code",
   "execution_count": 4,
   "metadata": {},
   "outputs": [],
   "source": [
    "# # Helper function to plot a decision boundary.\n",
    "# # If you don't fully understand this function don't worry, it just generates the contour plot below.\n",
    "# def plot_decision_boundary(pred_func):\n",
    "#     # Set min and max values and give it some padding\n",
    "#     x_min, x_max = X[:, 0].min() - .5, X[:, 0].max() + .5\n",
    "#     y_min, y_max = X[:, 1].min() - .5, X[:, 1].max() + .5\n",
    "#     h = 0.01\n",
    "#     # Generate a grid of points with distance h between them\n",
    "#     xx, yy = np.meshgrid(np.arange(x_min, x_max, h), np.arange(y_min, y_max, h))\n",
    "#     # Predict the function value for the whole gid\n",
    "#     Z = pred_func(np.c_[xx.ravel(), yy.ravel()])\n",
    "#     Z = Z.reshape(xx.shape)\n",
    "#     # Plot the contour and training examples\n",
    "#     plt.contourf(xx, yy, Z, cmap=plt.cm.Spectral)\n",
    "#     plt.scatter(X[:, 0], X[:, 1], c=y, cmap=plt.cm.Spectral)"
   ]
  },
  {
   "cell_type": "code",
   "execution_count": 5,
   "metadata": {},
   "outputs": [],
   "source": [
    "# # Plot the decision boundary\n",
    "# plot_decision_boundary(lambda x: clf.predict(x))\n",
    "# plt.title(\"Logistic Regression\")"
   ]
  },
  {
   "cell_type": "markdown",
   "metadata": {},
   "source": [
    "### drop out"
   ]
  },
  {
   "cell_type": "code",
   "execution_count": 6,
   "metadata": {},
   "outputs": [],
   "source": [
    "def dropout(layer_idx,layers, col_size):\n",
    "    W = layers[layer_idx]['W']\n",
    "    random_idx = np.random.randint(low = 0, high=W.shape[1] - 1, size=col_size, dtype='l')\n",
    "    print('random_idx: ',random_idx)\n",
    "    for i in random_idx:\n",
    "        W[:,i] = 0\n",
    "    layers[layer_idx]['W'] = W\n",
    "    return layers"
   ]
  },
  {
   "cell_type": "markdown",
   "metadata": {},
   "source": [
    "初始化层"
   ]
  },
  {
   "cell_type": "code",
   "execution_count": 7,
   "metadata": {},
   "outputs": [],
   "source": [
    "def init_layer(input_dim, output_dim, actFunc):\n",
    "    np.random.seed(0)\n",
    "    W = np.random.randn(input_dim, output_dim) / np.sqrt(input_dim)\n",
    "    b = np.zeros((1,output_dim))\n",
    "    print('w:',W.shape)\n",
    "    print('b:',b.shape)\n",
    "    layer = {'W': W, 'b': b, 'actFunc': actFunc}\n",
    "    return layer"
   ]
  },
  {
   "cell_type": "code",
   "execution_count": 8,
   "metadata": {},
   "outputs": [],
   "source": [
    "def init_layers(nn_architecture):\n",
    "    layers = []\n",
    "    for l in nn_architecture:\n",
    "        layer = init_layer(l['input_dim'], l['output_dim'], l['actFunc'])\n",
    "        layers.append(layer)\n",
    "    return layers"
   ]
  },
  {
   "cell_type": "markdown",
   "metadata": {},
   "source": [
    "激活函数"
   ]
  },
  {
   "cell_type": "code",
   "execution_count": 9,
   "metadata": {},
   "outputs": [],
   "source": [
    "def sigmoid(z):\n",
    "    return 1 / (1 + np.exp(-z))\n",
    "\n",
    "def relu(z):\n",
    "    return np.maximum(0, z)\n"
   ]
  },
  {
   "cell_type": "markdown",
   "metadata": {},
   "source": [
    "softmax"
   ]
  },
  {
   "cell_type": "code",
   "execution_count": 10,
   "metadata": {},
   "outputs": [],
   "source": [
    "def softmax(Z):\n",
    "    exp_scores = np.exp(Z)\n",
    "    probs = exp_scores / np.sum(exp_scores, axis=1, keepdims=True)\n",
    "    return probs"
   ]
  },
  {
   "cell_type": "markdown",
   "metadata": {},
   "source": [
    "反向传播"
   ]
  },
  {
   "cell_type": "code",
   "execution_count": 11,
   "metadata": {},
   "outputs": [],
   "source": [
    "def sigmoid_backward(dA, Z):\n",
    "    sig = sigmoid(Z)\n",
    "    return dA * sig * (1-sig)\n",
    "\n",
    "def relu_backward(dA, Z):\n",
    "    dZ = np.array(dA, copy = True)\n",
    "    dZ[Z <= 0] = 0\n",
    "    return dZ\n",
    "\n",
    "def tanh_backward(dA, Z):\n",
    "    t = np.tanh(Z)\n",
    "    res = (1 - t * t)\n",
    "#     print('res:', res.shape)\n",
    "#     print('dA:', dA.shape)\n",
    "    return res * dA"
   ]
  },
  {
   "cell_type": "markdown",
   "metadata": {},
   "source": [
    "损失函数"
   ]
  },
  {
   "cell_type": "code",
   "execution_count": 12,
   "metadata": {},
   "outputs": [],
   "source": [
    "def loss(Z, y):\n",
    "    # 计算损失\n",
    "    probs = softmax(Z)\n",
    "    corect_logprobs = -np.log(probs[range(num_examples), y])\n",
    "    data_loss = np.sum(corect_logprobs)\n",
    "    #在损失上加上正则项（可选）\n",
    "    # data_loss += reg_lambda/2 * (np.sum(np.square(W1)) + np.sum(np.square(W2)))\n",
    "    return 1./num_examples * data_loss"
   ]
  },
  {
   "cell_type": "markdown",
   "metadata": {},
   "source": [
    "前向传播"
   ]
  },
  {
   "cell_type": "code",
   "execution_count": 13,
   "metadata": {},
   "outputs": [],
   "source": [
    "def single_layer_forward_prop(X, layer):\n",
    "    W = layer['W']\n",
    "#     print(W.shape)\n",
    "    Z = X.dot(layer['W']) + layer['b']\n",
    "    if layer['actFunc'] is 'relu':\n",
    "        actFunction = relu\n",
    "    elif layer['actFunc'] is 'sigmoid':\n",
    "        actFunction = sigmoid\n",
    "    else:\n",
    "        actFunction = np.tanh\n",
    "    return actFunction(Z), Z"
   ]
  },
  {
   "cell_type": "code",
   "execution_count": 14,
   "metadata": {},
   "outputs": [],
   "source": [
    "def full_layers_forward_prop(X, layers):\n",
    "    memory_forward = []\n",
    "    Z_out = X\n",
    "    memo_forward = {\n",
    "        'Z_out': X\n",
    "    }\n",
    "    memory_forward.append(memo_forward)\n",
    "    layers_now = 0\n",
    "    for layer in layers:\n",
    "#         print('forward layers_now:',layers_now)\n",
    "        Z_out, Z_hide = single_layer_forward_prop(Z_out, layer)\n",
    "        memo_forward = {\n",
    "            'Z_out': Z_out,\n",
    "            'Z_hide': Z_hide\n",
    "        }\n",
    "        memory_forward.append(memo_forward)\n",
    "        layers_now += 1\n",
    "\n",
    "    # 返回最终的Z_out => actFunc(Z=X*W + b)\n",
    "    # memory_forward记录每一层的Z_out=actFunc(Z_hide)和Z_hide=W*X+b\n",
    "#     print('Z_out: ',Z_out.shape)\n",
    "    return Z_out, memory_forward"
   ]
  },
  {
   "cell_type": "markdown",
   "metadata": {},
   "source": [
    "反向传播"
   ]
  },
  {
   "cell_type": "code",
   "execution_count": 15,
   "metadata": {},
   "outputs": [],
   "source": [
    "def single_layer_backward_prop(memo_forward_now, memo_forward_pre, dA_now, layer):\n",
    "    # 前向神经元个数\n",
    "    # dA_now为由下一层传回的梯度\n",
    "    # memo_forward_pre 记录上一层计算结果， Z_hide=X*w+b和Z_out => X_pre\n",
    "    # memo_forward_now 记录当前层的计算结果，Z_hide => Z_now和Z_out\n",
    "    X_pre = memo_forward_pre['Z_out']\n",
    "    Z_now = memo_forward_now['Z_hide']\n",
    "    back_dim = X_pre.shape[0]\n",
    "\n",
    "    if layer['actFunc'] is 'sigmoid':\n",
    "        actFuncBack = sigmoid_backward\n",
    "    elif layer['actFunc'] is 'relu':\n",
    "        actFuncBack = relu_backward\n",
    "    else:\n",
    "        actFuncBack = tanh_backward\n",
    "\n",
    "    # 计算当前层外层导数\n",
    "    # dZ_now = actFunc'(Z_hide)\n",
    "    dZ_now = actFuncBack(dA_now, Z_now)\n",
    "    # dW_now = actFunc'(Z_hide) * (X=Z_hide*dW)\n",
    "#     print('X_pre',X_pre.shape)\n",
    "#     print('dZ_now',dZ_now.shape)\n",
    "#     print('dA_now',dA_now.shape)\n",
    "#     print('Z_now',Z_now.shape)\n",
    "    dW_now = X_pre.T.dot(dZ_now) / back_dim\n",
    "    # db_now = actFunc'(Z_hide) * (1=Z_hide*db); 维度转换\n",
    "    db_now = np.sum(dZ_now, axis=0, keepdims=True) / back_dim\n",
    "#     print('dW_now:',dW_now.shape)\n",
    "#     print('db_now',db_now.shape)\n",
    "    # dA_pre为向前一层传递的梯度；对上一层的Z_out即本层的X求导结果\n",
    "    # dA_pre = actFunc'(Z_hide) * (W=Z_hide*dX)\n",
    "    W_now = copy.deepcopy(layer['W'])\n",
    "    dA_pre = dZ_now.dot(W_now.T)\n",
    "#     print('dA_pre',dA_pre.shape)\n",
    "    \n",
    "    return dA_pre,dW_now, db_now"
   ]
  },
  {
   "cell_type": "code",
   "execution_count": 16,
   "metadata": {},
   "outputs": [],
   "source": [
    "def full_layers_backward_prop(Z_out, memory_forward, layers, X, y):\n",
    "#     Z_out, memo_forward = full_layers_forward_prop(X, layers)\n",
    "    # 反向传播\n",
    "    probs = softmax(Z_out)\n",
    "    probs[range(num_examples), y] -= 1\n",
    "    dA_pre = probs\n",
    "#     print('dA_now:', dA_now.shape)\n",
    "#     print('probs:', probs.shape)\n",
    "    memory_backward = []\n",
    "    layers.reverse()\n",
    "    memory_forward.reverse()\n",
    "\n",
    "    length = len(layers)\n",
    "    for idx in range(length):\n",
    "#         print('layer_now:', idx)\n",
    "        dA_pre, dW_now, db_now = single_layer_backward_prop(memory_forward[idx],memory_forward[idx+1],dA_pre,layers[idx])\n",
    "        memo_backward = {\n",
    "            'dW_now': dW_now,\n",
    "            'db_now': db_now\n",
    "        }\n",
    "        memory_backward.append(memo_backward)\n",
    "\n",
    "    return memory_backward"
   ]
  },
  {
   "cell_type": "markdown",
   "metadata": {},
   "source": [
    "更新网络"
   ]
  },
  {
   "cell_type": "code",
   "execution_count": 17,
   "metadata": {},
   "outputs": [],
   "source": [
    "def update(layers, memory_backward):\n",
    "#     print('layers: ',len(layers)\n",
    "#     print('memory_backward: ', len(memory_backward))\n",
    "    length = len(layers)\n",
    "#     print(memory_backward)\n",
    "#     print(layers)\n",
    "#     print(memory_backward)\n",
    "    for idx in range(length):\n",
    "        dW = memory_backward[idx]['dW_now']\n",
    "#         print('dW.shape: ', dW.shape)\n",
    "        layers[idx]['W'] -= epsilon * memory_backward[idx]['dW_now']\n",
    "        layers[idx]['b'] -= epsilon * memory_backward[idx]['db_now']\n",
    "        \n",
    "#     print(memory_backward)\n",
    "#     print(layers)\n",
    "    return layers"
   ]
  },
  {
   "cell_type": "markdown",
   "metadata": {},
   "source": [
    "预测函数"
   ]
  },
  {
   "cell_type": "code",
   "execution_count": 18,
   "metadata": {},
   "outputs": [],
   "source": [
    "def predict(X, layers):\n",
    "    Z_out, memory_forward = full_layers_forward_prop(X,layers)\n",
    "    probs = softmax(Z_out)\n",
    "    return np.argmax(probs, axis=1)"
   ]
  },
  {
   "cell_type": "markdown",
   "metadata": {},
   "source": [
    "计算准确率"
   ]
  },
  {
   "cell_type": "code",
   "execution_count": 19,
   "metadata": {},
   "outputs": [],
   "source": [
    "def get_acc(X, layers):\n",
    "    Z_out, memory_forward = full_layers_forward_prop(X,layers)\n",
    "    probs = softmax(Z_out)\n",
    "#     print(probs)\n",
    "#     return np.argmax(probs, axis=1)\n",
    "    acc = np.mean(Y_test==np.argmax(probs, axis=1))\n",
    "    return acc"
   ]
  },
  {
   "cell_type": "markdown",
   "metadata": {},
   "source": [
    "训练函数"
   ]
  },
  {
   "cell_type": "code",
   "execution_count": 20,
   "metadata": {},
   "outputs": [],
   "source": [
    "def train(X, y, nn_architcture, epochs):\n",
    "    layers = init_layers(nn_architcture)\n",
    "    \n",
    "    layers = dropout(2, layers, 2)\n",
    "    layers = dropout(1, layers, 5)\n",
    "    cost_history = []\n",
    "    accuracy_history = []\n",
    "    best_acc = 0\n",
    "\n",
    "    for i in range(epochs):\n",
    "        Z_out, memory_forward = full_layers_forward_prop(X,layers)\n",
    "#         print(Z_out.shape)\n",
    "        cost = loss(Z_out, y)\n",
    "        acc = get_acc(X_test, layers)\n",
    "        cost_history.append(cost)\n",
    "        accuracy_history.append(acc)\n",
    "        if best_acc < acc :\n",
    "            best_acc = acc\n",
    "            \n",
    "        if i % 500 == 0:\n",
    "#             epsilon = 0.01 * np.exp(-i / 500) + 0.02\n",
    "            print('||best_acc => ', best_acc, '||cost => ', cost, '||acc => ', acc)\n",
    "#             print('epochs: ', i, 'epsilon: ', epsilon)\n",
    "#             print('cost: ', cost)\n",
    "#             print('acc: ', acc)\n",
    "\n",
    "\n",
    "        memory_backward = full_layers_backward_prop(Z_out, memory_forward, layers, X, y)\n",
    "        layers = update(layers, memory_backward)\n",
    "        \n",
    "        layers.reverse()\n",
    "        memory_forward.reverse()\n",
    "    \n",
    "    plt.plot(accuracy_history)\n",
    "    plt.ylabel('accuracy')\n",
    "    plt.show()\n",
    "    \n",
    "    \n",
    "    plt.plot(cost_history)\n",
    "    plt.ylabel('loss')\n",
    "    plt.show()\n",
    "#     plt.title('the net layers: ', len(nn_architcture))\n",
    "    \n",
    "    return layers, cost_history, accuracy_history"
   ]
  },
  {
   "cell_type": "markdown",
   "metadata": {},
   "source": [
    "初始化参数，网络结构，学习率"
   ]
  },
  {
   "cell_type": "code",
   "execution_count": 21,
   "metadata": {},
   "outputs": [
    {
     "name": "stdout",
     "output_type": "stream",
     "text": [
      "样本数量： 2034\n",
      "输入样本维度： 100\n",
      "输出数量： 4\n"
     ]
    }
   ],
   "source": [
    "num_examples = X_train.shape[0] # 训练样本的数量\n",
    "nn_input_dim = X_train.shape[1] # 输入层的维度\n",
    "nn_output_dim = 4 # 输出层的维度\n",
    "\n",
    "# 梯度下降的参数（我直接手动赋值）\n",
    "epsilon = 0.05 # 梯度下降的学习率\n",
    "reg_lambda = 0.01 # 正则化的强度\n",
    "epochs = 5000\n",
    "\n",
    "print('样本数量：', num_examples)\n",
    "print('输入样本维度：',nn_input_dim)\n",
    "print('输出数量：',nn_output_dim)"
   ]
  },
  {
   "cell_type": "markdown",
   "metadata": {},
   "source": [
    "输出"
   ]
  },
  {
   "cell_type": "code",
   "execution_count": 22,
   "metadata": {
    "scrolled": false
   },
   "outputs": [],
   "source": [
    "# nn_architcture = [\n",
    "# #     {'input_dim': nn_input_dim, 'output_dim': 4, 'actFunc': 'tanh'},\n",
    "# #     {'input_dim': 4, 'output_dim': 6, 'actFunc': 'tanh'},\n",
    "# #     {'input_dim': 6, 'output_dim': 6, 'actFunc': 'tanh'},\n",
    "# #     {'input_dim': 6, 'output_dim': 4, 'actFunc': 'tanh'},\n",
    "#     {'input_dim': nn_input_dim, 'output_dim': nn_output_dim, 'actFunc': 'tanh'},\n",
    "# ]\n",
    "\n",
    "# layers, cost_history,accuracy_history = train(X_train, Y_train, nn_architcture, epochs)\n",
    "# acc = get_acc(X_test, layers)\n",
    "# # plot_decision_boundary(lambda x: predict(x, layers))\n",
    "# # plt.title(\"Decision Boundary for hidden layer size 1.\")\n",
    "# print(\"Decision Boundary for hidden layer size 1. acc: \", acc)"
   ]
  },
  {
   "cell_type": "code",
   "execution_count": 23,
   "metadata": {
    "scrolled": false
   },
   "outputs": [],
   "source": [
    "# nn_architcture = [\n",
    "#     {'input_dim': nn_input_dim, 'output_dim': 18, 'actFunc': 'tanh'},\n",
    "# #     {'input_dim': 4, 'output_dim': 6, 'actFunc': 'tanh'},\n",
    "# #     {'input_dim': 6, 'output_dim': 6, 'actFunc': 'tanh'},\n",
    "# #     {'input_dim': 6, 'output_dim': 4, 'actFunc': 'tanh'},\n",
    "#     {'input_dim': 18, 'output_dim': nn_output_dim, 'actFunc': 'tanh'},\n",
    "# ]\n",
    "\n",
    "# layers, cost_history,accuracy_history  = train(X_train, Y_train, nn_architcture, epochs)\n",
    "# acc = get_acc(X_test, layers)\n",
    "# # plot_decision_boundary(lambda x: predict(x, layers))\n",
    "# # plt.title(\"Decision Boundary for hidden layer size 2.\")\n",
    "# print(\"Decision Boundary for hidden layer size 2, acc: \", acc)"
   ]
  },
  {
   "cell_type": "code",
   "execution_count": 24,
   "metadata": {
    "scrolled": false
   },
   "outputs": [
    {
     "name": "stdout",
     "output_type": "stream",
     "text": [
      "w: (100, 18)\n",
      "b: (1, 18)\n",
      "w: (18, 18)\n",
      "b: (1, 18)\n",
      "w: (18, 4)\n",
      "b: (1, 4)\n",
      "random_idx:  [0 2]\n",
      "random_idx:  [16  0  0  6 14]\n",
      "||best_acc =>  0.19290465631929046 ||cost =>  1.3864814375861936 ||acc =>  0.19290465631929046\n",
      "||best_acc =>  0.6201034737620104 ||cost =>  1.116749623671079 ||acc =>  0.6134515890613451\n",
      "||best_acc =>  0.6430155210643016 ||cost =>  0.8749267868291682 ||acc =>  0.6430155210643016\n",
      "||best_acc =>  0.6459719142645972 ||cost =>  0.812126431756425 ||acc =>  0.6459719142645972\n",
      "||best_acc =>  0.6496674057649667 ||cost =>  0.7852111971908442 ||acc =>  0.6489283074648928\n",
      "||best_acc =>  0.6577974870657798 ||cost =>  0.7682193802425591 ||acc =>  0.6570583887657059\n",
      "||best_acc =>  0.6622320768662232 ||cost =>  0.755646358371708 ||acc =>  0.6622320768662232\n",
      "||best_acc =>  0.6629711751662971 ||cost =>  0.7455402228202624 ||acc =>  0.6614929785661493\n",
      "||best_acc =>  0.6629711751662971 ||cost =>  0.736928703968033 ||acc =>  0.6622320768662232\n",
      "||best_acc =>  0.663710273466371 ||cost =>  0.7293058856384589 ||acc =>  0.6629711751662971\n"
     ]
    },
    {
     "data": {
      "image/png": "[encoded data removed]",
      "text/plain": [
       "<Figure size 432x288 with 1 Axes>"
      ]
     },
     "metadata": {},
     "output_type": "display_data"
    },
    {
     "data": {
      "image/png": "[encoded data removed]",
      "text/plain": [
       "<Figure size 432x288 with 1 Axes>"
      ]
     },
     "metadata": {},
     "output_type": "display_data"
    },
    {
     "name": "stdout",
     "output_type": "stream",
     "text": [
      "Decision Boundary for hidden layer size 3. acc:  0.6674057649667405\n"
     ]
    }
   ],
   "source": [
    "nn_architcture = [\n",
    "    {'input_dim': nn_input_dim, 'output_dim': 18, 'actFunc': 'tanh'},\n",
    "    {'input_dim': 18, 'output_dim': 18, 'actFunc': 'tanh'},\n",
    "#     {'input_dim': 20, 'output_dim': 20, 'actFunc': 'tanh'},\n",
    "#     {'input_dim': 20, 'output_dim': 8, 'actFunc': 'tanh'},\n",
    "    {'input_dim': 18, 'output_dim': nn_output_dim, 'actFunc': 'tanh'},\n",
    "]\n",
    "\n",
    "layers, cost_history,accuracy_history  = train(X_train, Y_train, nn_architcture, epochs)\n",
    "acc = get_acc(X_test, layers)\n",
    "# plot_decision_boundary(lambda x: predict(x, layers))\n",
    "# plt.title(\"Decision Boundary for hidden layer size 3\")\n",
    "print(\"Decision Boundary for hidden layer size 3. acc: \", acc)"
   ]
  },
  {
   "cell_type": "code",
   "execution_count": 25,
   "metadata": {},
   "outputs": [
    {
     "name": "stdout",
     "output_type": "stream",
     "text": [
      "w: (100, 20)\n",
      "b: (1, 20)\n",
      "w: (20, 16)\n",
      "b: (1, 16)\n",
      "w: (16, 20)\n",
      "b: (1, 20)\n",
      "w: (20, 4)\n",
      "b: (1, 4)\n",
      "random_idx:  [ 8 13]\n",
      "random_idx:  [14  8 13  2  3]\n",
      "||best_acc =>  0.402069475240207 ||cost =>  1.373858452309147 ||acc =>  0.402069475240207\n",
      "||best_acc =>  0.631189948263119 ||cost =>  0.9060958969809635 ||acc =>  0.6289726533628973\n",
      "||best_acc =>  0.6504065040650406 ||cost =>  0.7975680570350028 ||acc =>  0.6489283074648928\n",
      "||best_acc =>  0.6504065040650406 ||cost =>  0.767241851640575 ||acc =>  0.6496674057649667\n",
      "||best_acc =>  0.6518847006651884 ||cost =>  0.7515550197305192 ||acc =>  0.647450110864745\n",
      "||best_acc =>  0.6577974870657798 ||cost =>  0.7405938411536228 ||acc =>  0.6577974870657798\n",
      "||best_acc =>  0.6577974870657798 ||cost =>  0.7311976110866181 ||acc =>  0.6541019955654102\n",
      "||best_acc =>  0.6592756836659276 ||cost =>  0.7221452153749188 ||acc =>  0.656319290465632\n",
      "||best_acc =>  0.6592756836659276 ||cost =>  0.7191997316705802 ||acc =>  0.656319290465632\n",
      "||best_acc =>  0.6614929785661493 ||cost =>  0.7121465133348573 ||acc =>  0.6600147819660015\n"
     ]
    },
    {
     "data": {
      "image/png": "[encoded data removed]",
      "text/plain": [
       "<Figure size 432x288 with 1 Axes>"
      ]
     },
     "metadata": {},
     "output_type": "display_data"
    },
    {
     "data": {
      "image/png": "[encoded data removed]",
      "text/plain": [
       "<Figure size 432x288 with 1 Axes>"
      ]
     },
     "metadata": {},
     "output_type": "display_data"
    },
    {
     "name": "stdout",
     "output_type": "stream",
     "text": [
      "Decision Boundary for hidden layer size 4. acc:  0.6600147819660015\n"
     ]
    }
   ],
   "source": [
    "nn_architcture = [\n",
    "    {'input_dim': nn_input_dim, 'output_dim': 20, 'actFunc': 'tanh'},\n",
    "    {'input_dim': 20, 'output_dim': 16, 'actFunc': 'tanh'},\n",
    "#     {'input_dim': 16, 'output_dim': 16, 'actFunc': 'tanh'},\n",
    "    {'input_dim': 16, 'output_dim': 20, 'actFunc': 'tanh'},\n",
    "    {'input_dim': 20, 'output_dim': nn_output_dim, 'actFunc': 'tanh'},\n",
    "]\n",
    "\n",
    "layers, cost_history,accuracy_history  = train(X_train, Y_train, nn_architcture, epochs)\n",
    "acc = get_acc(X_test, layers)\n",
    "# plot_decision_boundary(lambda x: predict(x, layers))\n",
    "# plt.title(\"Decision Boundary for hidden layer size 4\")\n",
    "print(\"Decision Boundary for hidden layer size 4. acc: \", acc)"
   ]
  },
  {
   "cell_type": "code",
   "execution_count": 26,
   "metadata": {
    "scrolled": false
   },
   "outputs": [
    {
     "name": "stdout",
     "output_type": "stream",
     "text": [
      "w: (100, 20)\n",
      "b: (1, 20)\n",
      "w: (20, 16)\n",
      "b: (1, 16)\n",
      "w: (16, 16)\n",
      "b: (1, 16)\n",
      "w: (16, 20)\n",
      "b: (1, 20)\n",
      "w: (20, 4)\n",
      "b: (1, 4)\n",
      "random_idx:  [ 8 13]\n",
      "random_idx:  [14  8 13  2  3]\n",
      "||best_acc =>  0.3074648928307465 ||cost =>  1.3903670628912848 ||acc =>  0.3074648928307465\n",
      "||best_acc =>  0.6430155210643016 ||cost =>  0.8481860033764266 ||acc =>  0.6430155210643016\n",
      "||best_acc =>  0.6541019955654102 ||cost =>  0.770474970600149 ||acc =>  0.6511456023651145\n",
      "||best_acc =>  0.6541019955654102 ||cost =>  0.758224796119934 ||acc =>  0.6467110125646711\n",
      "||best_acc =>  0.6541019955654102 ||cost =>  0.7485854439013807 ||acc =>  0.6518847006651884\n",
      "||best_acc =>  0.6541019955654102 ||cost =>  0.7443301823985732 ||acc =>  0.6489283074648928\n",
      "||best_acc =>  0.6541019955654102 ||cost =>  0.743793438623486 ||acc =>  0.6467110125646711\n",
      "||best_acc =>  0.6541019955654102 ||cost =>  0.7352218749562311 ||acc =>  0.6459719142645972\n",
      "||best_acc =>  0.6541019955654102 ||cost =>  0.737203539683252 ||acc =>  0.6481892091648189\n",
      "||best_acc =>  0.6541019955654102 ||cost =>  0.7335787240640754 ||acc =>  0.6437546193643755\n"
     ]
    },
    {
     "data": {
      "image/png": "[encoded data removed]",
      "text/plain": [
       "<Figure size 432x288 with 1 Axes>"
      ]
     },
     "metadata": {},
     "output_type": "display_data"
    },
    {
     "data": {
      "image/png": "[encoded data removed]",
      "text/plain": [
       "<Figure size 432x288 with 1 Axes>"
      ]
     },
     "metadata": {},
     "output_type": "display_data"
    },
    {
     "name": "stdout",
     "output_type": "stream",
     "text": [
      "Decision Boundary for hidden layer size 4. acc:  0.6467110125646711\n"
     ]
    }
   ],
   "source": [
    "nn_architcture = [\n",
    "    {'input_dim': nn_input_dim, 'output_dim': 20, 'actFunc': 'tanh'},\n",
    "    {'input_dim': 20, 'output_dim': 16, 'actFunc': 'tanh'},\n",
    "    {'input_dim': 16, 'output_dim': 16, 'actFunc': 'tanh'},\n",
    "    {'input_dim': 16, 'output_dim': 20, 'actFunc': 'tanh'},\n",
    "    {'input_dim': 20, 'output_dim': nn_output_dim, 'actFunc': 'tanh'},\n",
    "]\n",
    "\n",
    "layers, cost_history,accuracy_history  = train(X_train, Y_train, nn_architcture, epochs)\n",
    "acc = get_acc(X_test, layers)\n",
    "# plot_decision_boundary(lambda x: predict(x, layers))\n",
    "# plt.title(\"Decision Boundary for hidden layer size 4\")\n",
    "print(\"Decision Boundary for hidden layer size 4. acc: \", acc)"
   ]
  },
  {
   "cell_type": "code",
   "execution_count": null,
   "metadata": {
    "scrolled": false
   },
   "outputs": [
    {
     "name": "stdout",
     "output_type": "stream",
     "text": [
      "w: (100, 90)\n",
      "b: (1, 90)\n",
      "w: (90, 80)\n",
      "b: (1, 80)\n",
      "w: (80, 70)\n",
      "b: (1, 70)\n",
      "w: (70, 60)\n",
      "b: (1, 60)\n",
      "w: (60, 50)\n",
      "b: (1, 50)\n",
      "w: (50, 25)\n",
      "b: (1, 25)\n",
      "w: (25, 15)\n",
      "b: (1, 15)\n",
      "w: (15, 4)\n",
      "b: (1, 4)\n",
      "random_idx:  [23 59]\n",
      "random_idx:  [ 2 62 35 67 46]\n",
      "||best_acc =>  0.30376940133037694 ||cost =>  1.3814106662038745 ||acc =>  0.30376940133037694\n",
      "||best_acc =>  0.6511456023651145 ||cost =>  0.8065159468691487 ||acc =>  0.6304508499630451\n",
      "||best_acc =>  0.6555801921655581 ||cost =>  0.7752924059411035 ||acc =>  0.6452328159645233\n",
      "||best_acc =>  0.6555801921655581 ||cost =>  0.769589210205776 ||acc =>  0.6385809312638581\n",
      "||best_acc =>  0.6614929785661493 ||cost =>  0.7236142247405473 ||acc =>  0.6467110125646711\n"
     ]
    }
   ],
   "source": [
    "nn_architcture = [\n",
    "    {'input_dim': nn_input_dim, 'output_dim': 90, 'actFunc': 'tanh'},\n",
    "    {'input_dim': 90, 'output_dim': 80, 'actFunc': 'tanh'},\n",
    "    {'input_dim': 80, 'output_dim': 70, 'actFunc': 'tanh'},\n",
    "    {'input_dim': 70, 'output_dim': 60, 'actFunc': 'tanh'},\n",
    "    {'input_dim': 60, 'output_dim': 50, 'actFunc': 'tanh'},\n",
    "    {'input_dim': 50, 'output_dim': 25, 'actFunc': 'tanh'},\n",
    "    {'input_dim': 25, 'output_dim': 15, 'actFunc': 'tanh'},\n",
    "    {'input_dim': 15, 'output_dim': nn_output_dim, 'actFunc': 'tanh'},\n",
    "]\n",
    "\n",
    "layers, cost_history,accuracy_history  = train(X_train, Y_train, nn_architcture, epochs)\n",
    "acc = get_acc(X_test, layers)\n",
    "# plot_decision_boundary(lambda x: predict(x, layers))\n",
    "# plt.title(\"Decision Boundary for hidden layer size 4\")\n",
    "print(\"Decision Boundary for hidden layer size 8. acc: \", acc)"
   ]
  },
  {
   "cell_type": "code",
   "execution_count": null,
   "metadata": {},
   "outputs": [],
   "source": []
  }
 ],
 "metadata": {
  "kernelspec": {
   "display_name": "Python 3",
   "language": "python",
   "name": "python3"
  },
  "language_info": {
   "codemirror_mode": {
    "name": "ipython",
    "version": 3
   },
   "file_extension": ".py",
   "mimetype": "text/x-python",
   "name": "python",
   "nbconvert_exporter": "python",
   "pygments_lexer": "ipython3",
   "version": "3.6.5"
  }
 },
 "nbformat": 4,
 "nbformat_minor": 2
}
