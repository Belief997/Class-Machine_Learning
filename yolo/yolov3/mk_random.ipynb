{
 "cells": [
  {
   "cell_type": "code",
   "execution_count": 15,
   "metadata": {},
   "outputs": [],
   "source": [
    "import numpy as np"
   ]
  },
  {
   "cell_type": "code",
   "execution_count": 16,
   "metadata": {},
   "outputs": [],
   "source": [
    "def data_load(file_path):\n",
    "    data_in = np.loadtxt(file_path)\n",
    "    print(data_in.shape)\n",
    "    return data_in"
   ]
  },
  {
   "cell_type": "code",
   "execution_count": 17,
   "metadata": {},
   "outputs": [],
   "source": [
    "def data_save(data , type):\n",
    "    if type == 'train':\n",
    "        np.savetxt(\"train.txt\",data, fmt=\"%f\") \n",
    "    elif type == 'test':\n",
    "        np.savetxt(\"valid.txt\",data, fmt=\"%f\")\n",
    "    if type == 'train_lab':\n",
    "        np.savetxt(\"train_lab.txt\",data, fmt=\"%f\") \n",
    "    elif type == 'test_lab':\n",
    "        np.savetxt(\"valid_lab.txt\",data, fmt=\"%f\")\n",
    "    print(data.shape)"
   ]
  },
  {
   "cell_type": "code",
   "execution_count": 20,
   "metadata": {},
   "outputs": [],
   "source": [
    "def data_random(data_0, data_1):\n",
    "    if data_0.shape[0] == data_1.shape[0]:\n",
    "        state = np.random.get_state()\n",
    "        np.random.shuffle(data_0)\n",
    "        np.random.set_state(state)\n",
    "        np.random.shuffle(data_1)\n",
    "    else:\n",
    "        print(\"err input\")\n",
    "    return data_0,data_1\n",
    "        "
   ]
  },
  {
   "cell_type": "code",
   "execution_count": 23,
   "metadata": {},
   "outputs": [
    {
     "name": "stdout",
     "output_type": "stream",
     "text": [
      "(750, 5)\n",
      "(750, 5)\n",
      "(750, 5)\n",
      "(750, 5)\n"
     ]
    }
   ],
   "source": [
    "data_in0=data_load(\"train_lab_pre.txt\")\n",
    "data_in1=data_load(\"train_pre.txt\")\n",
    "data_random(data_in0, data_in1)\n",
    "data_save(data_in0 , 'train_lab')\n",
    "data_save(data_in1 , 'train')\n",
    "\n"
   ]
  },
  {
   "cell_type": "code",
   "execution_count": 12,
   "metadata": {},
   "outputs": [
    {
     "name": "stdout",
     "output_type": "stream",
     "text": [
      "[[ 0  1  2  3  4  5  6  7  8  9]\n",
      " [10 11 12 13 14 15 16 17 18 19]\n",
      " [20 21 22 23 24 25 26 27 28 29]\n",
      " [30 31 32 33 34 35 36 37 38 39]\n",
      " [40 41 42 43 44 45 46 47 48 49]\n",
      " [50 51 52 53 54 55 56 57 58 59]\n",
      " [60 61 62 63 64 65 66 67 68 69]\n",
      " [70 71 72 73 74 75 76 77 78 79]\n",
      " [80 81 82 83 84 85 86 87 88 89]\n",
      " [90 91 92 93 94 95 96 97 98 99]]\n",
      "(10, 10)\n"
     ]
    }
   ],
   "source": [
    "data_in0=data_load(\"valid_lab_pre.txt\")\n",
    "data_in1=data_load(\"valid_pre.txt\")\n",
    "data_random(data_in0, data_in1)\n",
    "data_save(data_in0 , 'test_lab')\n",
    "data_save(data_in1 , 'test')"
   ]
  },
  {
   "cell_type": "code",
   "execution_count": 13,
   "metadata": {},
   "outputs": [
    {
     "name": "stdout",
     "output_type": "stream",
     "text": [
      "[[ 0  1  2  3  4  5  6  7  8  9]\n",
      " [70 71 72 73 74 75 76 77 78 79]\n",
      " [80 81 82 83 84 85 86 87 88 89]\n",
      " [10 11 12 13 14 15 16 17 18 19]\n",
      " [40 41 42 43 44 45 46 47 48 49]\n",
      " [20 21 22 23 24 25 26 27 28 29]\n",
      " [30 31 32 33 34 35 36 37 38 39]\n",
      " [90 91 92 93 94 95 96 97 98 99]\n",
      " [60 61 62 63 64 65 66 67 68 69]\n",
      " [50 51 52 53 54 55 56 57 58 59]]\n"
     ]
    },
    {
     "data": {
      "text/plain": [
       "array([[ 0,  1,  2,  3,  4,  5,  6,  7,  8,  9],\n",
       "       [10, 11, 12, 13, 14, 15, 16, 17, 18, 19],\n",
       "       [20, 21, 22, 23, 24, 25, 26, 27, 28, 29],\n",
       "       [30, 31, 32, 33, 34, 35, 36, 37, 38, 39],\n",
       "       [40, 41, 42, 43, 44, 45, 46, 47, 48, 49],\n",
       "       [50, 51, 52, 53, 54, 55, 56, 57, 58, 59],\n",
       "       [60, 61, 62, 63, 64, 65, 66, 67, 68, 69],\n",
       "       [70, 71, 72, 73, 74, 75, 76, 77, 78, 79],\n",
       "       [80, 81, 82, 83, 84, 85, 86, 87, 88, 89],\n",
       "       [90, 91, 92, 93, 94, 95, 96, 97, 98, 99]])"
      ]
     },
     "execution_count": 13,
     "metadata": {},
     "output_type": "execute_result"
    }
   ],
   "source": [
    "\n"
   ]
  },
  {
   "cell_type": "code",
   "execution_count": 14,
   "metadata": {},
   "outputs": [
    {
     "name": "stdout",
     "output_type": "stream",
     "text": [
      "[[ 0  1  2  3  4  5  6  7  8  9]\n",
      " [70 71 72 73 74 75 76 77 78 79]\n",
      " [80 81 82 83 84 85 86 87 88 89]\n",
      " [10 11 12 13 14 15 16 17 18 19]\n",
      " [40 41 42 43 44 45 46 47 48 49]\n",
      " [20 21 22 23 24 25 26 27 28 29]\n",
      " [30 31 32 33 34 35 36 37 38 39]\n",
      " [90 91 92 93 94 95 96 97 98 99]\n",
      " [60 61 62 63 64 65 66 67 68 69]\n",
      " [50 51 52 53 54 55 56 57 58 59]]\n"
     ]
    }
   ],
   "source": []
  },
  {
   "cell_type": "code",
   "execution_count": null,
   "metadata": {},
   "outputs": [],
   "source": []
  },
  {
   "cell_type": "code",
   "execution_count": null,
   "metadata": {},
   "outputs": [],
   "source": []
  }
 ],
 "metadata": {
  "kernelspec": {
   "display_name": "Python 3",
   "language": "python",
   "name": "python3"
  },
  "language_info": {
   "codemirror_mode": {
    "name": "ipython",
    "version": 3
   },
   "file_extension": ".py",
   "mimetype": "text/x-python",
   "name": "python",
   "nbconvert_exporter": "python",
   "pygments_lexer": "ipython3",
   "version": "3.7.1"
  }
 },
 "nbformat": 4,
 "nbformat_minor": 2
}
