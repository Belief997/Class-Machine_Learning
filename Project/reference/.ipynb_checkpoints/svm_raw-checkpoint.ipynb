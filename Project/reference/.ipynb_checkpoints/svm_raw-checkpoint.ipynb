{
 "cells": [
  {
   "cell_type": "code",
   "execution_count": 1,
   "metadata": {
    "collapsed": true
   },
   "outputs": [],
   "source": [
    "%matplotlib inline\n",
    "\n",
    "import numpy as np\n",
    "import matplotlib.pyplot as plt\n",
    "from sklearn.svm import LinearSVC\n",
    "\n",
    "from datetime import datetime\n",
    "\n",
    "DATA_PATH = \"data/cifar-10-batches-py/\"\n",
    "\n",
    "def unpack(fname):\n",
    "    import pickle\n",
    "    with open(fname, \"rb\") as fin:\n",
    "        dumped = pickle.load(fin, encoding=\"bytes\")\n",
    "    return dumped\n",
    "\n",
    "def reshape(data):\n",
    "    img = np.zeros((32, 32, 3), 'uint8')\n",
    "    img[..., 0] = np.reshape(data[:1024], (32, 32))\n",
    "    img[..., 1] = np.reshape(data[1024:2048], (32, 32))\n",
    "    img[..., 2] = np.reshape(data[2048:3072], (32, 32))\n",
    "    return img\n",
    "\n",
    "batches_meta = unpack(DATA_PATH + \"batches.meta\")\n",
    "data_batches = [\n",
    "    unpack(DATA_PATH + \"data_batch_\" + str(i+1))\n",
    "    for i in range(5)\n",
    "]\n",
    "test_batch = unpack(DATA_PATH + \"test_batch\")"
   ]
  },
  {
   "cell_type": "code",
   "execution_count": 2,
   "metadata": {},
   "outputs": [
    {
     "name": "stdout",
     "output_type": "stream",
     "text": [
      "Accuracy: 0.219\n",
      "Time: 0:03:13.606918\n"
     ]
    }
   ],
   "source": [
    "start_time = datetime.now()\n",
    "\n",
    "clf = LinearSVC()\n",
    "\n",
    "for i in range(5):\n",
    "    clf.fit(data_batches[i][b\"data\"][:1000], data_batches[i][b\"labels\"][:1000])\n",
    "\n",
    "predict = clf.predict(test_batch[b\"data\"][:1000])\n",
    "\n",
    "stop_time = datetime.now()\n",
    "\n",
    "correct_sum = 0\n",
    "for i in range(len(predict)):\n",
    "    if (predict[i] == test_batch[b\"labels\"][i]):\n",
    "        correct_sum += 1\n",
    "\n",
    "print('Accuracy:',correct_sum / len(predict))\n",
    "print('Time:',stop_time - start_time)"
   ]
  },
  {
   "cell_type": "code",
   "execution_count": null,
   "metadata": {
    "collapsed": true
   },
   "outputs": [],
   "source": []
  }
 ],
 "metadata": {
  "kernelspec": {
   "display_name": "Python 3",
   "language": "python",
   "name": "python3"
  },
  "language_info": {
   "codemirror_mode": {
    "name": "ipython",
    "version": 3
   },
   "file_extension": ".py",
   "mimetype": "text/x-python",
   "name": "python",
   "nbconvert_exporter": "python",
   "pygments_lexer": "ipython3",
   "version": "3.6.1"
  }
 },
 "nbformat": 4,
 "nbformat_minor": 2
}
