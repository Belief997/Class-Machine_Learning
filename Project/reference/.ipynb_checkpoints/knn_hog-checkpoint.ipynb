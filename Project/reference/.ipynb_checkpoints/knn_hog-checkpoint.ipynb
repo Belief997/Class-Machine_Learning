{
 "cells": [
  {
   "cell_type": "code",
   "execution_count": 2,
   "metadata": {
    "collapsed": true
   },
   "outputs": [],
   "source": [
    "%matplotlib inline\n",
    "\n",
    "import numpy as np\n",
    "import matplotlib.pyplot as plt\n",
    "import sklearn.neighbors as neighbors\n",
    "\n",
    "DATA_PATH = \"data/cifar-10-batches-py/\"\n",
    "\n",
    "def unpack(fname):\n",
    "    import pickle\n",
    "    with open(fname, \"rb\") as fin:\n",
    "        dumped = pickle.load(fin, encoding=\"bytes\")\n",
    "    return dumped\n",
    "\n",
    "def reshape(data):\n",
    "    img = np.zeros((32, 32, 3), 'uint8')\n",
    "    img[..., 0] = np.reshape(data[:1024], (32, 32))\n",
    "    img[..., 1] = np.reshape(data[1024:2048], (32, 32))\n",
    "    img[..., 2] = np.reshape(data[2048:3072], (32, 32))\n",
    "    return img\n",
    "\n",
    "batches_meta = unpack(DATA_PATH + \"batches.meta\")\n",
    "data_batches = [\n",
    "    unpack(DATA_PATH + \"data_batch_\" + str(i+1))\n",
    "    for i in range(5)\n",
    "]\n",
    "test_batch = unpack(DATA_PATH + \"test_batch\")"
   ]
  },
  {
   "cell_type": "code",
   "execution_count": 3,
   "metadata": {},
   "outputs": [
    {
     "name": "stderr",
     "output_type": "stream",
     "text": [
      "D:\\ana\\lib\\site-packages\\skimage\\feature\\_hog.py:119: skimage_deprecation: Default value of `block_norm`==`L1` is deprecated and will be changed to `L2-Hys` in v0.15\n",
      "  'be changed to `L2-Hys` in v0.15', skimage_deprecation)\n"
     ]
    }
   ],
   "source": [
    "from skimage.color import rgb2gray\n",
    "from skimage.feature import hog\n",
    "\n",
    "for i in range(5):\n",
    "    data_batches[i][b\"data\"] = [hog(rgb2gray(reshape(img))) for img in data_batches[i][b\"data\"]]\n",
    "\n",
    "test_batch[b\"data\"] = [hog(rgb2gray(reshape(img))) for img in test_batch[b\"data\"]]"
   ]
  },
  {
   "cell_type": "code",
   "execution_count": 4,
   "metadata": {
    "collapsed": true
   },
   "outputs": [],
   "source": [
    "hyperparam_train_data = data_batches[0][b\"data\"][:900]\n",
    "hyperparam_train_labels = data_batches[0][b\"labels\"][:900]\n",
    "hyperparam_test_data = data_batches[0][b\"data\"][900:1000]\n",
    "hyperparam_test_labels = data_batches[0][b\"labels\"][900:1000]"
   ]
  },
  {
   "cell_type": "code",
   "execution_count": 5,
   "metadata": {},
   "outputs": [
    {
     "data": {
      "image/png": "[encoded data removed]",
      "text/plain": [
       "<matplotlib.figure.Figure at 0x121ac8e8f28>"
      ]
     },
     "metadata": {},
     "output_type": "display_data"
    },
    {
     "name": "stdout",
     "output_type": "stream",
     "text": [
      "0.408\n",
      "Time: 0:00:10.388245 s\n"
     ]
    }
   ],
   "source": [
    "import datetime\n",
    "begin = datetime.datetime.now()\n",
    "ks = [2, 3, 4, 5, 6, 7, 8, 9, 10]\n",
    "correct_sums = []\n",
    "\n",
    "for k in ks:\n",
    "    clf = neighbors.KNeighborsClassifier(k, weights=\"distance\")\n",
    "    clf.fit(hyperparam_train_data, hyperparam_train_labels)\n",
    "    \n",
    "    predict = clf.predict(hyperparam_test_data)\n",
    "    \n",
    "    correct_sum = 0\n",
    "    for i in range(len(predict)):\n",
    "        if (predict[i] == hyperparam_test_labels[i]):\n",
    "            correct_sum += 1\n",
    "    \n",
    "    correct_sums.append(correct_sum / 100.0)\n",
    "\n",
    "plt.plot(ks, correct_sums)\n",
    "plt.show()\n",
    "clf = neighbors.KNeighborsClassifier(7, weights=\"distance\")\n",
    "\n",
    "for i in range(5):\n",
    "    clf.fit(data_batches[i][b\"data\"], data_batches[i][b\"labels\"])\n",
    "predict = clf.predict(test_batch[b\"data\"][:1000])\n",
    "\n",
    "correct_sum = 0\n",
    "for i in range(len(predict)):\n",
    "    if (predict[i] == test_batch[b\"labels\"][i]):\n",
    "        correct_sum += 1\n",
    "\n",
    "print(correct_sum / 1000.0)\n",
    "end = datetime.datetime.now()\n",
    "print('Time:',end - begin, 's')"
   ]
  },
  {
   "cell_type": "code",
   "execution_count": 7,
   "metadata": {
    "collapsed": true
   },
   "outputs": [],
   "source": []
  },
  {
   "cell_type": "code",
   "execution_count": 8,
   "metadata": {},
   "outputs": [
    {
     "name": "stdout",
     "output_type": "stream",
     "text": [
      "0.408\n"
     ]
    }
   ],
   "source": []
  },
  {
   "cell_type": "code",
   "execution_count": null,
   "metadata": {
    "collapsed": true
   },
   "outputs": [],
   "source": []
  }
 ],
 "metadata": {
  "kernelspec": {
   "display_name": "Python 3",
   "language": "python",
   "name": "python3"
  },
  "language_info": {
   "codemirror_mode": {
    "name": "ipython",
    "version": 3
   },
   "file_extension": ".py",
   "mimetype": "text/x-python",
   "name": "python",
   "nbconvert_exporter": "python",
   "pygments_lexer": "ipython3",
   "version": "3.6.1"
  }
 },
 "nbformat": 4,
 "nbformat_minor": 2
}
