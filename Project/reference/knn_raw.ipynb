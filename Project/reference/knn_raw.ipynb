{
 "cells": [
  {
   "cell_type": "code",
   "execution_count": 1,
   "metadata": {},
   "outputs": [],
   "source": [
    "%matplotlib inline\n",
    "\n",
    "import numpy as np\n",
    "import matplotlib.pyplot as plt\n",
    "import sklearn.neighbors as neighbors\n",
    "\n",
    "DATA_PATH = \"E:/Dian/Class/Junior_spring/ML/cifar-10-python/cifar-10-batches-py/\"\n",
    "\n",
    "def unpack(fname):\n",
    "    import pickle\n",
    "    with open(fname, \"rb\") as fin:\n",
    "        dumped = pickle.load(fin, encoding=\"bytes\")\n",
    "    return dumped\n",
    "\n",
    "def reshape(data):\n",
    "    img = np.zeros((32, 32, 3), 'uint8')\n",
    "    img[..., 0] = np.reshape(data[:1024], (32, 32))\n",
    "    img[..., 1] = np.reshape(data[1024:2048], (32, 32))\n",
    "    img[..., 2] = np.reshape(data[2048:3072], (32, 32))\n",
    "    return img\n",
    "\n",
    "batches_meta = unpack(DATA_PATH + \"batches.meta\")\n",
    "data_batches = [\n",
    "    unpack(DATA_PATH + \"data_batch_\" + str(i+1))\n",
    "    for i in range(5)\n",
    "]\n",
    "test_batch = unpack(DATA_PATH + \"test_batch\")"
   ]
  },
  {
   "cell_type": "code",
   "execution_count": 2,
   "metadata": {},
   "outputs": [
    {
     "name": "stdout",
     "output_type": "stream",
     "text": [
      "dict_keys([b'num_cases_per_batch', b'label_names', b'num_vis'])\n",
      "dict_keys([b'batch_label', b'labels', b'data', b'filenames'])\n"
     ]
    }
   ],
   "source": [
    "print(batches_meta.keys())\n",
    "print(data_batches[0].keys())"
   ]
  },
  {
   "cell_type": "code",
   "execution_count": 3,
   "metadata": {},
   "outputs": [],
   "source": [
    "hyperparam_train_data = data_batches[0][b\"data\"][:900]\n",
    "hyperparam_train_labels = data_batches[0][b\"labels\"][:900]\n",
    "hyperparam_test_data = data_batches[0][b\"data\"][900:1000]\n",
    "hyperparam_test_labels = data_batches[0][b\"labels\"][900:1000]"
   ]
  },
  {
   "cell_type": "code",
   "execution_count": 4,
   "metadata": {},
   "outputs": [
    {
     "data": {
      "image/png": "[encoded data removed]",
      "text/plain": [
       "<Figure size 432x288 with 1 Axes>"
      ]
     },
     "metadata": {
      "needs_background": "light"
     },
     "output_type": "display_data"
    },
    {
     "name": "stdout",
     "output_type": "stream",
     "text": [
      "Accuracy: 0.294\n",
      "Time: 0:01:46.617401 s\n"
     ]
    }
   ],
   "source": [
    "import datetime\n",
    "begin = datetime.datetime.now()\n",
    "ks = [2, 3, 4, 5, 6, 7, 8, 9, 10]\n",
    "correct_sums = []\n",
    "\n",
    "for k in ks:\n",
    "    clf = neighbors.KNeighborsClassifier(k, weights=\"distance\")\n",
    "    clf.fit(hyperparam_train_data, hyperparam_train_labels)\n",
    "    \n",
    "    predict = clf.predict(hyperparam_test_data)\n",
    "    \n",
    "    correct_sum = 0\n",
    "    for i in range(len(predict)):\n",
    "        if (predict[i] == hyperparam_test_labels[i]):\n",
    "            correct_sum += 1\n",
    "    \n",
    "    correct_sums.append(correct_sum / 100.0)\n",
    "\n",
    "plt.plot(ks, correct_sums)\n",
    "plt.show()\n",
    "clf = neighbors.KNeighborsClassifier(8, weights=\"distance\")\n",
    "\n",
    "for i in range(5):\n",
    "    clf.fit(data_batches[i][b\"data\"], data_batches[i][b\"labels\"])\n",
    "predict = clf.predict(test_batch[b\"data\"][:1000])\n",
    "\n",
    "correct_sum = 0\n",
    "for i in range(len(predict)):\n",
    "    if (predict[i] == test_batch[b\"labels\"][i]):\n",
    "        correct_sum += 1\n",
    "\n",
    "print('Accuracy:',correct_sum / 1000.0)\n",
    "end = datetime.datetime.now()\n",
    "print('Time:',end - begin, 's')"
   ]
  },
  {
   "cell_type": "raw",
   "metadata": {},
   "source": []
  },
  {
   "cell_type": "code",
   "execution_count": null,
   "metadata": {},
   "outputs": [],
   "source": []
  },
  {
   "cell_type": "code",
   "execution_count": null,
   "metadata": {},
   "outputs": [],
   "source": []
  },
  {
   "cell_type": "code",
   "execution_count": null,
   "metadata": {},
   "outputs": [],
   "source": []
  }
 ],
 "metadata": {
  "kernelspec": {
   "display_name": "Python 3",
   "language": "python",
   "name": "python3"
  },
  "language_info": {
   "codemirror_mode": {
    "name": "ipython",
    "version": 3
   },
   "file_extension": ".py",
   "mimetype": "text/x-python",
   "name": "python",
   "nbconvert_exporter": "python",
   "pygments_lexer": "ipython3",
   "version": "3.7.1"
  }
 },
 "nbformat": 4,
 "nbformat_minor": 2
}
